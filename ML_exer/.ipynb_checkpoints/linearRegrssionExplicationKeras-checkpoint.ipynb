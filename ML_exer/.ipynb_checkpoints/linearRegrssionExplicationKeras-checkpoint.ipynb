{
 "cells": [
  {
   "cell_type": "code",
   "execution_count": 255,
   "metadata": {},
   "outputs": [],
   "source": [
    "# multivariate one step problem with lstm\n",
    "from numpy import array\n",
    "from numpy import hstack\n",
    "from keras.models import Sequential\n",
    "from keras.layers import Dense\n",
    "from keras.layers import LSTM\n",
    "import matplotlib.pyplot as plt"
   ]
  },
  {
   "cell_type": "code",
   "execution_count": 256,
   "metadata": {},
   "outputs": [],
   "source": [
    "\n",
    "from keras.preprocessing.sequence import TimeseriesGenerator\n",
    "# define dataset\n",
    "in_seq1 = array([10, 20, 30, 40, 50, 60, 70, 80, 90, 100])\n",
    "in_seq2 = array([15, 25, 35, 45, 55, 65, 75, 85, 95, 105])\n",
    "target = array([[1,2],[2,3],[3,4],[4,5],[5,6],[6,7],[7,8],[8,9],[9,10],[10,11]])\n",
    "# reshape series\n",
    "\n",
    "in_seq1 = in_seq1.reshape((len(in_seq1), 1))\n",
    "in_seq2 = in_seq2.reshape((len(in_seq2), 1))"
   ]
  },
  {
   "cell_type": "code",
   "execution_count": 273,
   "metadata": {},
   "outputs": [
    {
     "name": "stdout",
     "output_type": "stream",
     "text": [
      "[[ 10  15]\n",
      " [ 20  25]\n",
      " [ 30  35]\n",
      " [ 40  45]\n",
      " [ 50  55]\n",
      " [ 60  65]\n",
      " [ 70  75]\n",
      " [ 80  85]\n",
      " [ 90  95]\n",
      " [100 105]]\n"
     ]
    }
   ],
   "source": [
    "print(dataset)"
   ]
  },
  {
   "cell_type": "code",
   "execution_count": 257,
   "metadata": {},
   "outputs": [
    {
     "name": "stdout",
     "output_type": "stream",
     "text": [
      "(10, 1) (10, 2)\n"
     ]
    }
   ],
   "source": [
    "print(in_seq1.shape,  target.shape)"
   ]
  },
  {
   "cell_type": "code",
   "execution_count": 258,
   "metadata": {},
   "outputs": [
    {
     "name": "stdout",
     "output_type": "stream",
     "text": [
      "[[[10 15]\n",
      "  [20 25]]] => [[3 4]]\n",
      "[[[20 25]\n",
      "  [30 35]]] => [[4 5]]\n",
      "[[[30 35]\n",
      "  [40 45]]] => [[5 6]]\n",
      "[[[40 45]\n",
      "  [50 55]]] => [[6 7]]\n",
      "[[[50 55]\n",
      "  [60 65]]] => [[7 8]]\n",
      "[[[60 65]\n",
      "  [70 75]]] => [[8 9]]\n",
      "[[[70 75]\n",
      "  [80 85]]] => [[ 9 10]]\n",
      "[[[80 85]\n",
      "  [90 95]]] => [[10 11]]\n"
     ]
    }
   ],
   "source": [
    "# horizontally stack columns\n",
    "dataset = hstack((in_seq1, in_seq2))\n",
    "\n",
    "\n",
    "n_input = 2\n",
    "generator = TimeseriesGenerator(dataset, target, length=n_input, batch_size=1)\n",
    "# print each sample\n",
    "for i in range(len(generator)):\n",
    "\tx, y = generator[i]\n",
    "\tprint('%s => %s' % (x, y))"
   ]
  },
  {
   "cell_type": "code",
   "execution_count": 259,
   "metadata": {},
   "outputs": [
    {
     "name": "stdout",
     "output_type": "stream",
     "text": [
      "[[ 10  15]\n",
      " [ 20  25]\n",
      " [ 30  35]\n",
      " [ 40  45]\n",
      " [ 50  55]\n",
      " [ 60  65]\n",
      " [ 70  75]\n",
      " [ 80  85]\n",
      " [ 90  95]\n",
      " [100 105]]\n"
     ]
    }
   ],
   "source": [
    "print(dataset)"
   ]
  },
  {
   "cell_type": "code",
   "execution_count": 260,
   "metadata": {},
   "outputs": [
    {
     "name": "stdout",
     "output_type": "stream",
     "text": [
      "Samples: 8\n"
     ]
    }
   ],
   "source": [
    "print('Samples: %d' % len(generator))"
   ]
  },
  {
   "cell_type": "code",
   "execution_count": 261,
   "metadata": {},
   "outputs": [
    {
     "name": "stdout",
     "output_type": "stream",
     "text": [
      "[[[10 15]\n",
      "  [20 25]]] => [[3 4]]\n",
      "[[[20 25]\n",
      "  [30 35]]] => [[4 5]]\n",
      "[[[30 35]\n",
      "  [40 45]]] => [[5 6]]\n",
      "[[[40 45]\n",
      "  [50 55]]] => [[6 7]]\n",
      "[[[50 55]\n",
      "  [60 65]]] => [[7 8]]\n",
      "[[[60 65]\n",
      "  [70 75]]] => [[8 9]]\n",
      "[[[70 75]\n",
      "  [80 85]]] => [[ 9 10]]\n",
      "[[[80 85]\n",
      "  [90 95]]] => [[10 11]]\n"
     ]
    }
   ],
   "source": [
    "# print each sample\n",
    "for i in range(len(generator)):\n",
    "    x, y = generator[i]\n",
    "    print('%s => %s' % (x, y))"
   ]
  },
  {
   "cell_type": "code",
   "execution_count": 262,
   "metadata": {},
   "outputs": [],
   "source": [
    "n_input = 2"
   ]
  },
  {
   "cell_type": "code",
   "execution_count": 263,
   "metadata": {},
   "outputs": [],
   "source": [
    "generator = TimeseriesGenerator(dataset, target, length=n_input, batch_size=8)"
   ]
  },
  {
   "cell_type": "code",
   "execution_count": 264,
   "metadata": {},
   "outputs": [
    {
     "data": {
      "text/plain": [
       "(10, 2)"
      ]
     },
     "execution_count": 264,
     "metadata": {},
     "output_type": "execute_result"
    }
   ],
   "source": [
    "dataset.shape"
   ]
  },
  {
   "cell_type": "code",
   "execution_count": 265,
   "metadata": {},
   "outputs": [],
   "source": [
    "n_features=2\n",
    "n_output=2"
   ]
  },
  {
   "cell_type": "code",
   "execution_count": 266,
   "metadata": {},
   "outputs": [],
   "source": [
    "\n",
    "# define model\n",
    "model = Sequential()\n",
    "model.add(LSTM(100, activation='relu', input_shape=(n_input, n_features)))\n",
    "model.add(Dense(2))\n",
    "model.compile(optimizer='adam', loss='mse')"
   ]
  },
  {
   "cell_type": "code",
   "execution_count": 267,
   "metadata": {},
   "outputs": [
    {
     "data": {
      "text/plain": [
       "<keras.callbacks.History at 0x7f39ec5552e8>"
      ]
     },
     "execution_count": 267,
     "metadata": {},
     "output_type": "execute_result"
    }
   ],
   "source": [
    "\n",
    "# fit model\n",
    "model.fit_generator(generator, steps_per_epoch=1, epochs=500, verbose=0)"
   ]
  },
  {
   "cell_type": "code",
   "execution_count": 268,
   "metadata": {},
   "outputs": [],
   "source": [
    "\n",
    "# make a one step prediction out of sample\n",
    "x_input = array([[90, 95], [100, 105]]).reshape((1, n_input, n_features))"
   ]
  },
  {
   "cell_type": "code",
   "execution_count": 269,
   "metadata": {},
   "outputs": [
    {
     "name": "stdout",
     "output_type": "stream",
     "text": [
      "[[11.069191 12.134053]]\n"
     ]
    }
   ],
   "source": [
    "\n",
    "yhat = model.predict(x_input, verbose=0)\n",
    "print(yhat)"
   ]
  },
  {
   "cell_type": "code",
   "execution_count": 271,
   "metadata": {},
   "outputs": [
    {
     "data": {
      "text/plain": [
       "[<matplotlib.lines.Line2D at 0x7f39e533e630>]"
      ]
     },
     "execution_count": 271,
     "metadata": {},
     "output_type": "execute_result"
    },
    {
     "data": {
      "image/png": "[encoded data removed]",
      "text/plain": [
       "<Figure size 432x288 with 1 Axes>"
      ]
     },
     "metadata": {
      "needs_background": "light"
     },
     "output_type": "display_data"
    }
   ],
   "source": [
    "model_lstm2 = Sequential()\n",
    "model_lstm2.add(LSTM(10, activation='relu', input_shape=(n_input, n_features)))\n",
    "model_lstm2.add(Dense(n_output))\n",
    "model_lstm2.compile(optimizer='sgd', loss='mse')\n",
    "# fit model\n",
    "history_lstm2=model_lstm2.fit_generator(generator, steps_per_epoch=1, epochs=500, verbose=0)\n",
    "plt.plot(history_lstm2.history['loss'])"
   ]
  },
  {
   "cell_type": "code",
   "execution_count": null,
   "metadata": {},
   "outputs": [],
   "source": []
  }
 ],
 "metadata": {
  "kernelspec": {
   "display_name": "Python 3",
   "language": "python",
   "name": "python3"
  },
  "language_info": {
   "codemirror_mode": {
    "name": "ipython",
    "version": 3
   },
   "file_extension": ".py",
   "mimetype": "text/x-python",
   "name": "python",
   "nbconvert_exporter": "python",
   "pygments_lexer": "ipython3",
   "version": "3.7.3"
  }
 },
 "nbformat": 4,
 "nbformat_minor": 2
}
