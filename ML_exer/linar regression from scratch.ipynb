{
 "cells": [
  {
   "cell_type": "code",
   "execution_count": 1,
   "metadata": {},
   "outputs": [],
   "source": [
    "import pandas as pd\n",
    "import numpy as np\n",
    "import matplotlib.pyplot as plt"
   ]
  },
  {
   "cell_type": "code",
   "execution_count": 2,
   "metadata": {},
   "outputs": [
    {
     "name": "stdout",
     "output_type": "stream",
     "text": [
      "shape of the dataset = (8760, 17)\n"
     ]
    }
   ],
   "source": [
    "pathInt = 'data_set1/input_training_ssnsrY0.csv'\n",
    "pathOut = 'data_set1/output_training_Uf11I9I.csv'\n",
    "pathTest = 'data_set1/input_test_cdKcI0e.csv'\n",
    "dataInt = pd.read_csv(pathInt)\n",
    "dataOut = pd.read_csv(pathOut)\n",
    "dataTest = pd.read_csv(pathTest)\n",
    "data_raw = pd.concat([dataInt, dataOut[['consumption_1', 'consumption_2']]], axis=1)\n",
    "print(\"shape of the dataset = {}\".format(data_raw.shape))\n"
   ]
  },
  {
   "cell_type": "code",
   "execution_count": null,
   "metadata": {},
   "outputs": [],
   "source": [
    "data = \n",
    "# plot \n",
    "fig, axes  = plt.subplots(nrows=4, ncols=2, dpi=120, figsize=(10,6))\n",
    "for i, ax in enumerate(axes.flatten()):\n",
    "    data = data_raw[data_raw.columns[i]]\n",
    "    ax.plot(data, color='grey', linewidth=0.5)"
   ]
  },
  {
   "cell_type": "code",
   "execution_count": null,
   "metadata": {},
   "outputs": [],
   "source": []
  },
  {
   "cell_type": "raw",
   "metadata": {},
   "source": []
  },
  {
   "cell_type": "code",
   "execution_count": null,
   "metadata": {},
   "outputs": [],
   "source": []
  }
 ],
 "metadata": {
  "kernelspec": {
   "display_name": "Python 3",
   "language": "python",
   "name": "python3"
  },
  "language_info": {
   "codemirror_mode": {
    "name": "ipython",
    "version": 3
   },
   "file_extension": ".py",
   "mimetype": "text/x-python",
   "name": "python",
   "nbconvert_exporter": "python",
   "pygments_lexer": "ipython3",
   "version": "3.7.3"
  }
 },
 "nbformat": 4,
 "nbformat_minor": 2
}
