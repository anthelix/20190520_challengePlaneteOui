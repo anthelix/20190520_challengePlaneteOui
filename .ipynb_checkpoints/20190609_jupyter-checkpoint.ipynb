{
 "cells": [
  {
   "cell_type": "markdown",
   "metadata": {},
   "source": [
    "![Worflow](workflow3.png)"
   ]
  },
  {
   "cell_type": "markdown",
   "metadata": {},
   "source": [
    "\n",
    "    1_Define Problem\n",
    "    2_Specify Inputs & Outputs\n",
    "    3_Exploratory data analysis\n",
    "    4_Data Collection\n",
    "    5_Data Preprocessing\n",
    "    6_Data Cleaning\n",
    "    7_Visualization\n",
    "    8_Model Design, Training, and Offline Evaluation\n",
    "    9_Model Deployment, Online Evaluation, and Monitoring\n",
    "    10_Model Maintenance, Diagnosis, and Retraining\n"
   ]
  },
  {
   "cell_type": "markdown",
   "metadata": {},
   "source": [
    "## 1_DEFINE PROBLEM"
   ]
  },
  {
   "cell_type": "markdown",
   "metadata": {},
   "source": [
    "* Description informelle\n",
    "\n",
    "    je veux ecrire un programme capable de predire la consommation electrique pour une annee d'essai"
   ]
  },
  {
   "cell_type": "markdown",
   "metadata": {},
   "source": [
    "* Formalisme selon Tom Mitchell\n",
    "\n",
    "    Tache (T): Estimer la consomation electrique\n",
    "\n",
    "    Performance(P): la precision de la prediction faite par l'algorithme et a quel point elle est proche de la              consomation reelle (loc_secondary).\n",
    "\n",
    "    Experience(E): la temperature, l'humidite et la consommation reelle, les dates"
   ]
  },
  {
   "cell_type": "markdown",
   "metadata": {},
   "source": [
    "* Benefice attendu: \n",
    "\n",
    "    apprendre sur les donnees manquantes, sur la gestion de glissement de date, apprentissage semi-supervise"
   ]
  },
  {
   "cell_type": "markdown",
   "metadata": {},
   "source": [
    "* How does your company expact to use and benfit from your model.\n",
    "\n",
    "    In operational conditions, the new consumption profiles would be integrated to electricity supply pricing analysis. \n",
    "    \n",
    "    BCM Energy is a start-up based in Lyon and created in 2015. BCM operates on the whole value chain of renewable electricity, from production assets management on electricity markets (Epexspot, EEX) to electricity supply to final consumers through the brand Planète OUI.\n",
    "    \n",
    "    Planète OUI, created in 2007, is one of the first French green electricity supplier. The company supplies tens of thousands of homes and professionals and covers more than 95 % of metropolitan France (Enedis network). Planète OUI promotes an ecology constructive and made available for all. It has integrated BCM Energy’s perimeter in 2017.\n",
    "    \n",
    "    Planete OUI has to offer green electricity supply with prices adapted to the consumption profiles of its clients. The electricity is indeed bough on the electricity markets, where prices are highly variable during a day.\n",
    "   \n",
    "    A site with a high share of consumption when prices are low, for example at mid-afternoon, will be supplied at lower costs than a site consuming electricity mainly during peak price intervals. The consumption profile of an installation has then to be appraised to compute the best estimation of supply tariffs, allowing Planète OUI to meet its running costs while supplying its client at the best price.\n",
    "    "
   ]
  },
  {
   "cell_type": "markdown",
   "metadata": {},
   "source": [
    "## 2_Specify Inputs & Outputs"
   ]
  },
  {
   "cell_type": "markdown",
   "metadata": {},
   "source": [
    "**donnees utiles pour predire une consomation electrique**\n",
    "    * humidite,\n",
    "    * Temperature,\n",
    "    * Moyenne Nationale de Temperature,\n",
    "    * Jour de la semaine,\n",
    "    * Periode de l'annees,\n",
    "**recuperer ces donnees**\n",
    "    * API externes, \n",
    "    * beses de donnnes,\n",
    "    * openDara\n",
    "    * donnees d'entreprises"
   ]
  },
  {
   "cell_type": "markdown",
   "metadata": {},
   "source": [
    "**Problem Fetures**\n",
    "\n",
    "This data set contains information about 13 features\n",
    "* ID\n",
    "* timestamp\n",
    "* temp_1\n",
    "* temp_2\n",
    "* mean_national_temp\n",
    "* humidity_1\n",
    "* humidity_2\n",
    "* loc_1\n",
    "* loc_2\n",
    "* loc_secondary_1\n",
    "* loc_secondary_2\n",
    "* loc_secondary_3\n",
    "* consumption_secondary_1\n",
    "* consumption_secondary_2\n",
    "* consumption_secondary_3"
   ]
  },
  {
   "cell_type": "markdown",
   "metadata": {},
   "source": [
    "**Aim**\n",
    "\n",
    "It is your job to predict if a passenger survived the sinking of the Titanic or not. For each PassengerId in the test set, you must predict a 0 or 1 value for the Survived variable.\n",
    "\n",
    "The job is to predict the consumption of loc_1 and loc_2. For each ID in the test set, I must predict a Kwh value for the consumption1 and the consumption2 variables"
   ]
  },
  {
   "cell_type": "markdown",
   "metadata": {},
   "source": [
    "**Variable**"
   ]
  },
  {
   "cell_type": "markdown",
   "metadata": {},
   "source": [
    "**Inputs & Outputs**"
   ]
  },
  {
   "cell_type": "code",
   "execution_count": null,
   "metadata": {},
   "outputs": [],
   "source": []
  }
 ],
 "metadata": {
  "kernelspec": {
   "display_name": "Python 3",
   "language": "python",
   "name": "python3"
  },
  "language_info": {
   "codemirror_mode": {
    "name": "ipython",
    "version": 3
   },
   "file_extension": ".py",
   "mimetype": "text/x-python",
   "name": "python",
   "nbconvert_exporter": "python",
   "pygments_lexer": "ipython3",
   "version": "3.7.3"
  }
 },
 "nbformat": 4,
 "nbformat_minor": 2
}
