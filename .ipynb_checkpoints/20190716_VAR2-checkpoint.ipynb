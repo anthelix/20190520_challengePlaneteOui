{
 "cells": [
  {
   "cell_type": "markdown",
   "metadata": {},
   "source": [
    "multivariate times series, \n",
    "regular times series, \n",
    "var model et non arima, \n",
    "verifier si stationnary, \n",
    "use referencing if not, \n",
    "todo : dans le \"pd.to_datetime(data_raw['timestamp'])\" mettre \"B\" pour business day\n",
    "\n",
    "\n",
    "\n"
   ]
  },
  {
   "cell_type": "code",
   "execution_count": 10,
   "metadata": {},
   "outputs": [],
   "source": [
    "#importing the libraries\n",
    "import numpy as np\n",
    "import math\n",
    "import pandas as pd\n",
    "from datetime import datetime, timedelta, time\n",
    "from vacances_scolaires_france import SchoolHolidayDates\n",
    "import sys\n",
    "from impyute.imputation.cs import mice\n",
    "from sklearn.compose import ColumnTransformer\n",
    "from sklearn.preprocessing import OneHotEncoder, StandardScaler\n",
    "from sklearn.linear_model import LinearRegression\n",
    "from sklearn.metrics import mean_squared_error\n",
    "from sklearn.model_selection import cross_val_score\n",
    "from sklearn.model_selection import TimeSeriesSplit\n",
    "from statsmodels.tsa.stattools import adfuller\n",
    "from statsmodels.tsa.stattools import kpss\n",
    "from statsmodels.tsa.stattools import grangercausalitytests\n",
    "from pandas.plotting import autocorrelation_plot\n",
    "import functools\n",
    "import matplotlib.pyplot as plt\n",
    "import matplotlib\n",
    "%matplotlib inline\n",
    "matplotlib.rcParams['figure.figsize'] = [12.0, 8.0]\n",
    "import seaborn as sns\n",
    "#pip install vacances-scolaires-france\n",
    "#pip3 install impyute\n",
    "#pip install statsmodels\n",
    "# my fonctions\n",
    "def conv(data):\n",
    "    data[\"date\"] = data.timestamp.apply(lambda x : x.split('T')[0])\n",
    "    data[\"datetime_perso\"] = data.timestamp.apply(lambda x : get_format_the_date(x))\n",
    "    data['year']=data['datetime_perso'].dt.year\n",
    "    data['month']=data['datetime_perso'].dt.month\n",
    "    data['timestamp'] = pd.to_datetime(data['timestamp'])\n",
    "    data['hours'] = data['timestamp'].dt.hour\n",
    "    return data\n",
    "\n",
    "## get season\n",
    "def get_season(doy):\n",
    "    spring = range(80, 172)\n",
    "    summer = range(172, 264)\n",
    "    fall = range(264, 355)\n",
    "    if doy in spring:\n",
    "        season = 'spring'\n",
    "    elif doy in summer:\n",
    "      season = 'summer'\n",
    "    elif doy in fall:\n",
    "        season = 'fall'\n",
    "    else:\n",
    "        season = 'winter'\n",
    "    return season\n",
    "\n",
    "## verifie si jour ferie\n",
    "def easter_date(year):\n",
    "    a = year // 100\n",
    "    b = year % 100\n",
    "    c = (3 * (a + 25)) // 4\n",
    "    d = (3 * (a + 25)) % 4\n",
    "    e = (8 * (a + 11)) // 25\n",
    "    f = (5 * a + b) % 19\n",
    "    g = (19 * f + c - e) % 30\n",
    "    h = (f + 11 * g) // 319\n",
    "    j = (60 * (5 - d) + b) // 4\n",
    "    k = (60 * (5 - d) + b) % 4\n",
    "    m = (2 * j - k - g + h) % 7\n",
    "    n = (g - h + m + 114) // 31\n",
    "    p = (g - h + m + 114) % 31\n",
    "    day = p + 1\n",
    "    month = n\n",
    "    return datetime(year, month, day)\n",
    "\n",
    "def is_ferie(the_date):\n",
    "    year = the_date.year\n",
    "    easter = easter_date(year)\n",
    "    days = [\n",
    "        datetime(year, 1, 1),  # Premier de l'an\n",
    "        easter + timedelta(days=1),  # Lundi de Pâques\n",
    "        datetime(year, 5, 1),  # Fête du Travail\n",
    "        datetime(year, 5, 8),  # Victoire de 1945\n",
    "        easter + timedelta(days=39),  # Ascension\n",
    "        easter + timedelta(days=49),  # Pentecôte\n",
    "        datetime(year, 7, 14),  # Fête Nationale\n",
    "        datetime(year, 8, 15),  # Assomption\n",
    "        datetime(year, 11, 1),  # Toussaint\n",
    "        datetime(year, 11, 11),  # Armistice 1918\n",
    "        datetime(year, 12, 25),  # Noël\n",
    "    ]\n",
    "    return the_date in days\n",
    "\n",
    "def get_format_the_date(timestamp):\n",
    "    do = datetime.strptime(timestamp, '%Y-%m-%dT%H:%M:%S.%f')\n",
    "    d5 = do.replace(minute=0, hour=0, second=0, microsecond=0).isoformat(' ')\n",
    "    the_date = datetime.strptime(d5, \"%Y-%m-%d %H:%M:%S\")\n",
    "    return the_date\n",
    "\n",
    "def business_day(timestamp):\n",
    "    if not is_ferie(timestamp) and timestamp.isoweekday() not in [6, 7]:\n",
    "        return True\n",
    "    else:\n",
    "        return False\n",
    "    \n",
    "  "
   ]
  },
  {
   "cell_type": "code",
   "execution_count": 11,
   "metadata": {},
   "outputs": [],
   "source": [
    "# Creating the test for stationarity\n",
    "def test_stationarity(timeseries):\n",
    "    \"\"\"\n",
    "    Check stationarity using ADF test\n",
    "    Ho : The series is non-stationary and has a unit root --> p-value > 0.05\n",
    "    H1 : The series is stationary and does not have a unit root --> p-value < 0.05\n",
    "    \"\"\"\n",
    "   \n",
    "    #Perform Dickey-Fuller test:\n",
    "    print ('Results of Dickey-Fuller Test:')\n",
    "    print('***   {}  *** Running ADF Stationarity test'.format(timeseries.name))\n",
    "    dftest = adfuller(timeseries, autolag='AIC')\n",
    "    dfoutput = pd.Series(dftest[0:4], index=['Test Statistic','p-value','#Lags Used','Number of Observations Used'])\n",
    "    for key,value in dftest[4].items():\n",
    "        dfoutput['Critical Value (%s)'%key] = value\n",
    "    print (dfoutput)\n",
    "   \n",
    "    if dftest[4]['5%'] > dftest[0]:\n",
    "        conclusion = 'Series is Stationary @95% CI'\n",
    "        print ('\\t Conclusion: Series is stationary at 95% CI\\n')\n",
    "    elif dftest[4]['10%'] > dftest[0]:\n",
    "        conclusion = 'Series is Stationary @90% CI'\n",
    "        print ('\\t Conclusion: Series is stationary at 90% CI but non-stationary at 95% CI\\n')\n",
    "    else:\n",
    "        conclusion = 'Series is non-Stationary'\n",
    "        print ('\\t Conclusion: Series is non-stationary\\n')\n",
    "    return conclusion\n"
   ]
  },
  {
   "cell_type": "code",
   "execution_count": 12,
   "metadata": {},
   "outputs": [],
   "source": [
    "#Summary Statistics\n",
    "def check_summary(series):\n",
    "    \"\"\"\n",
    "    Split the series into two and check summary statistics for both the series\n",
    "    \"\"\"\n",
    "    \n",
    "    X = series.values\n",
    "    split =int( len(X) / 2)\n",
    "    X1, X2 = X[0:split], X[split:]\n",
    "    meanoverall, mean1, mean2 = X.mean(), X1.mean(), X2.mean()\n",
    "    varoverall, var1, var2 = X.var(), X1.var(), X2.var()\n",
    "    print('mean overall = %f, \\t mean1=%f, \\t mean2=%f' % (meanoverall, mean1, mean2))\n",
    "    print('variance overall= %f, \\t variance1=%f, \\t variance2=%f' % (varoverall, var1, var2))\n",
    "\n",
    "\n",
    "#Distribution by plotting Histogram\n",
    "def check_distribution(series):\n",
    "    \"\"\"\n",
    "    Distribution by plotting Histogram\n",
    "    \"\"\"\n",
    "    series.hist()\n",
    "    plt.show()        \n",
    "\n",
    "#Series Plots:\n",
    "def check_plots(series):\n",
    "    \"\"\"\n",
    "    Plots the series as a line chart\n",
    "    \"\"\"\n",
    "    plt.plot(series)\n",
    "    plt.show()        \n",
    "    \n",
    "def check_normality(series):\n",
    "    result = stats.normaltest(series)\n",
    "    \n",
    "    print('Test: Running Agostino and Pearson Normality test for {} \\n\\t Normality test statistic: {} \\n\\t p-value: {} '.format(series.name, result[0], result[1]))\n",
    "    \n",
    "    if(result[1]< 0.05):\n",
    "        conclusion = 'Not Normally Distributed'\n",
    "        print('\\t Conclusion: {} is not normally distributed at 95% CI \\n'.format(series.name))\n",
    "    else:\n",
    "        conclusion = 'Normally Distributed'\n",
    "        print('\\t Conclusion: {} is normally distributed at 95% CI \\n'.format(series.name))\n",
    "        \n",
    "    return conclusion "
   ]
  },
  {
   "cell_type": "code",
   "execution_count": 13,
   "metadata": {},
   "outputs": [],
   "source": [
    "def processing(dataInt):\n",
    "    ## missing value\n",
    "    df = dataInt.copy()\n",
    "    #df_num = df.drop(['timestamp','loc_1', 'loc_2', 'loc_secondary_1', 'loc_secondary_2', 'loc_secondary_3'], axis=1)\n",
    "    #df_NonNum = df.select_dtypes(include=[np.object])\n",
    "    imputed_training_mice = mice(df.values)\n",
    "    data_mice = pd.DataFrame(imputed_training_mice, columns = df.columns, index = list(df.index.values))\n",
    "   # dClean = data_mice.join(df_NonNum)\n",
    "    ## drop variable inutile\n",
    "    #d_tr = dClean.drop(['loc_1', 'loc_2', 'loc_secondary_1', 'loc_secondary_2', 'loc_secondary_3'], axis=1)\n",
    "    ## create extra attribute\n",
    "    #conv(d_tr)\n",
    "    #d_tr['timestamp'] = pd.to_datetime(d_tr.timestamp, format = '%Y-%m-%dT%H:%M:%S.%f')\n",
    "    ## create season and rangeInYear\n",
    "    #s = pd.to_datetime(pd.Series(d_tr['timestamp']))\n",
    "    #d_tr['rangeInYear'] = s.dt.strftime('%j').astype(int)\n",
    "    #create jours working days\n",
    "   # d_tr['is_business_day'] = d_tr['datetime_perso'].apply(lambda e : int(business_day(e)))\n",
    "    #Is it an holiday for zone A, B or C?\n",
    "    #d = SchoolHolidayDates()\n",
    "    #d_tr['is_holiday'] = d_tr['datetime_perso'].apply(lambda f : int(d.is_holiday(datetime.date(f))))\n",
    "    #d_tr['season'] = d_tr['rangeInYear'].apply(lambda d : get_season(d))\n",
    "    #dataInt1 = d_tr.drop(['rangeInYear', 'datetime_perso', 'date', 'timestamp'], axis=1)\n",
    "    return (data_mice)  \n"
   ]
  },
  {
   "cell_type": "markdown",
   "metadata": {},
   "source": [
    "--------------------------------------------------------------------------------------------------------------------"
   ]
  },
  {
   "cell_type": "code",
   "execution_count": 33,
   "metadata": {},
   "outputs": [
    {
     "data": {
      "text/plain": [
       "Index(['ID', 'timestamp', 'temp_1', 'temp_2', 'mean_national_temp',\n",
       "       'humidity_1', 'humidity_2', 'loc_1', 'loc_2', 'loc_secondary_1',\n",
       "       'loc_secondary_2', 'loc_secondary_3', 'consumption_secondary_1',\n",
       "       'consumption_secondary_2', 'consumption_secondary_3', 'ID',\n",
       "       'consumption_1', 'consumption_2'],\n",
       "      dtype='object')"
      ]
     },
     "execution_count": 33,
     "metadata": {},
     "output_type": "execute_result"
    }
   ],
   "source": [
    "# creere un je\n",
    "dataInt_raw = pd.read_csv('./data_set1/input_training_ssnsrY0.csv')\n",
    "dataOut_raw = pd.read_csv('./data_set1/output_training_Uf11I9I.csv')\n",
    "data_raw = pd.concat([dataInt_raw, dataOut_raw], axis=1)\n",
    "data_raw.head()\n",
    "data_raw.columns\n",
    "#----------------------\n"
   ]
  },
  {
   "cell_type": "code",
   "execution_count": null,
   "metadata": {},
   "outputs": [],
   "source": []
  },
  {
   "cell_type": "code",
   "execution_count": 34,
   "metadata": {},
   "outputs": [
    {
     "data": {
      "text/html": [
       "<div>\n",
       "<style scoped>\n",
       "    .dataframe tbody tr th:only-of-type {\n",
       "        vertical-align: middle;\n",
       "    }\n",
       "\n",
       "    .dataframe tbody tr th {\n",
       "        vertical-align: top;\n",
       "    }\n",
       "\n",
       "    .dataframe thead th {\n",
       "        text-align: right;\n",
       "    }\n",
       "</style>\n",
       "<table border=\"1\" class=\"dataframe\">\n",
       "  <thead>\n",
       "    <tr style=\"text-align: right;\">\n",
       "      <th></th>\n",
       "      <th>ID</th>\n",
       "      <th>timestamp</th>\n",
       "      <th>temp_1</th>\n",
       "      <th>temp_2</th>\n",
       "      <th>mean_national_temp</th>\n",
       "      <th>humidity_1</th>\n",
       "      <th>humidity_2</th>\n",
       "      <th>loc_1</th>\n",
       "      <th>loc_2</th>\n",
       "      <th>loc_secondary_1</th>\n",
       "      <th>loc_secondary_2</th>\n",
       "      <th>loc_secondary_3</th>\n",
       "      <th>consumption_secondary_1</th>\n",
       "      <th>consumption_secondary_2</th>\n",
       "      <th>consumption_secondary_3</th>\n",
       "      <th>ID</th>\n",
       "      <th>consumption_1</th>\n",
       "      <th>consumption_2</th>\n",
       "    </tr>\n",
       "  </thead>\n",
       "  <tbody>\n",
       "    <tr>\n",
       "      <th>0</th>\n",
       "      <td>0</td>\n",
       "      <td>2016-11-01T00:00:00.0</td>\n",
       "      <td>8.3</td>\n",
       "      <td>NaN</td>\n",
       "      <td>11.1</td>\n",
       "      <td>95.0</td>\n",
       "      <td>NaN</td>\n",
       "      <td>(50.633, 3.067)</td>\n",
       "      <td>(43.530, 5.447)</td>\n",
       "      <td>(44.838, -0.579)</td>\n",
       "      <td>(47.478, -0.563)</td>\n",
       "      <td>(48.867, 2.333)</td>\n",
       "      <td>143</td>\n",
       "      <td>74</td>\n",
       "      <td>168</td>\n",
       "      <td>0</td>\n",
       "      <td>100</td>\n",
       "      <td>93</td>\n",
       "    </tr>\n",
       "    <tr>\n",
       "      <th>1</th>\n",
       "      <td>1</td>\n",
       "      <td>2016-11-01T01:00:00.0</td>\n",
       "      <td>8.0</td>\n",
       "      <td>NaN</td>\n",
       "      <td>11.1</td>\n",
       "      <td>98.0</td>\n",
       "      <td>NaN</td>\n",
       "      <td>(50.633, 3.067)</td>\n",
       "      <td>(43.530, 5.447)</td>\n",
       "      <td>(44.838, -0.579)</td>\n",
       "      <td>(47.478, -0.563)</td>\n",
       "      <td>(48.867, 2.333)</td>\n",
       "      <td>141</td>\n",
       "      <td>60</td>\n",
       "      <td>162</td>\n",
       "      <td>1</td>\n",
       "      <td>101</td>\n",
       "      <td>94</td>\n",
       "    </tr>\n",
       "  </tbody>\n",
       "</table>\n",
       "</div>"
      ],
      "text/plain": [
       "   ID              timestamp  temp_1  temp_2  mean_national_temp  humidity_1  \\\n",
       "0   0  2016-11-01T00:00:00.0     8.3     NaN                11.1        95.0   \n",
       "1   1  2016-11-01T01:00:00.0     8.0     NaN                11.1        98.0   \n",
       "\n",
       "   humidity_2            loc_1            loc_2   loc_secondary_1  \\\n",
       "0         NaN  (50.633, 3.067)  (43.530, 5.447)  (44.838, -0.579)   \n",
       "1         NaN  (50.633, 3.067)  (43.530, 5.447)  (44.838, -0.579)   \n",
       "\n",
       "    loc_secondary_2  loc_secondary_3  consumption_secondary_1  \\\n",
       "0  (47.478, -0.563)  (48.867, 2.333)                      143   \n",
       "1  (47.478, -0.563)  (48.867, 2.333)                      141   \n",
       "\n",
       "   consumption_secondary_2  consumption_secondary_3  ID  consumption_1  \\\n",
       "0                       74                      168   0            100   \n",
       "1                       60                      162   1            101   \n",
       "\n",
       "   consumption_2  \n",
       "0             93  \n",
       "1             94  "
      ]
     },
     "execution_count": 34,
     "metadata": {},
     "output_type": "execute_result"
    }
   ],
   "source": [
    "data_raw.head(2)"
   ]
  },
  {
   "cell_type": "code",
   "execution_count": 35,
   "metadata": {},
   "outputs": [
    {
     "data": {
      "text/html": [
       "<div>\n",
       "<style scoped>\n",
       "    .dataframe tbody tr th:only-of-type {\n",
       "        vertical-align: middle;\n",
       "    }\n",
       "\n",
       "    .dataframe tbody tr th {\n",
       "        vertical-align: top;\n",
       "    }\n",
       "\n",
       "    .dataframe thead th {\n",
       "        text-align: right;\n",
       "    }\n",
       "</style>\n",
       "<table border=\"1\" class=\"dataframe\">\n",
       "  <thead>\n",
       "    <tr style=\"text-align: right;\">\n",
       "      <th></th>\n",
       "      <th>ID</th>\n",
       "      <th>temp_1</th>\n",
       "      <th>temp_2</th>\n",
       "      <th>mean_national_temp</th>\n",
       "      <th>humidity_1</th>\n",
       "      <th>humidity_2</th>\n",
       "      <th>consumption_secondary_1</th>\n",
       "      <th>consumption_secondary_2</th>\n",
       "      <th>consumption_secondary_3</th>\n",
       "      <th>ID</th>\n",
       "      <th>consumption_1</th>\n",
       "      <th>consumption_2</th>\n",
       "    </tr>\n",
       "  </thead>\n",
       "  <tbody>\n",
       "    <tr>\n",
       "      <th>count</th>\n",
       "      <td>8760.000000</td>\n",
       "      <td>8589.000000</td>\n",
       "      <td>8429.000000</td>\n",
       "      <td>8760.000000</td>\n",
       "      <td>8589.000000</td>\n",
       "      <td>8428.000000</td>\n",
       "      <td>8760.000000</td>\n",
       "      <td>8760.000000</td>\n",
       "      <td>8760.000000</td>\n",
       "      <td>8760.000000</td>\n",
       "      <td>8760.000000</td>\n",
       "      <td>8760.000000</td>\n",
       "    </tr>\n",
       "    <tr>\n",
       "      <th>mean</th>\n",
       "      <td>4379.500000</td>\n",
       "      <td>11.402771</td>\n",
       "      <td>15.086274</td>\n",
       "      <td>13.173858</td>\n",
       "      <td>77.351496</td>\n",
       "      <td>63.443284</td>\n",
       "      <td>203.025114</td>\n",
       "      <td>123.581735</td>\n",
       "      <td>235.774201</td>\n",
       "      <td>4379.500000</td>\n",
       "      <td>137.549543</td>\n",
       "      <td>148.529909</td>\n",
       "    </tr>\n",
       "    <tr>\n",
       "      <th>std</th>\n",
       "      <td>2528.938512</td>\n",
       "      <td>7.049919</td>\n",
       "      <td>8.463627</td>\n",
       "      <td>6.474700</td>\n",
       "      <td>16.638173</td>\n",
       "      <td>21.900343</td>\n",
       "      <td>69.792811</td>\n",
       "      <td>65.036526</td>\n",
       "      <td>99.701896</td>\n",
       "      <td>2528.938512</td>\n",
       "      <td>63.146689</td>\n",
       "      <td>73.263972</td>\n",
       "    </tr>\n",
       "    <tr>\n",
       "      <th>min</th>\n",
       "      <td>0.000000</td>\n",
       "      <td>-5.700000</td>\n",
       "      <td>-7.200000</td>\n",
       "      <td>-1.800000</td>\n",
       "      <td>21.000000</td>\n",
       "      <td>12.000000</td>\n",
       "      <td>84.000000</td>\n",
       "      <td>0.000000</td>\n",
       "      <td>94.000000</td>\n",
       "      <td>0.000000</td>\n",
       "      <td>38.000000</td>\n",
       "      <td>0.000000</td>\n",
       "    </tr>\n",
       "    <tr>\n",
       "      <th>25%</th>\n",
       "      <td>2189.750000</td>\n",
       "      <td>6.100000</td>\n",
       "      <td>9.000000</td>\n",
       "      <td>8.200000</td>\n",
       "      <td>66.000000</td>\n",
       "      <td>46.000000</td>\n",
       "      <td>150.000000</td>\n",
       "      <td>73.000000</td>\n",
       "      <td>166.000000</td>\n",
       "      <td>2189.750000</td>\n",
       "      <td>91.000000</td>\n",
       "      <td>105.000000</td>\n",
       "    </tr>\n",
       "    <tr>\n",
       "      <th>50%</th>\n",
       "      <td>4379.500000</td>\n",
       "      <td>11.200000</td>\n",
       "      <td>14.500000</td>\n",
       "      <td>12.800000</td>\n",
       "      <td>81.000000</td>\n",
       "      <td>65.000000</td>\n",
       "      <td>181.000000</td>\n",
       "      <td>107.000000</td>\n",
       "      <td>194.000000</td>\n",
       "      <td>4379.500000</td>\n",
       "      <td>116.000000</td>\n",
       "      <td>129.000000</td>\n",
       "    </tr>\n",
       "    <tr>\n",
       "      <th>75%</th>\n",
       "      <td>6569.250000</td>\n",
       "      <td>16.400000</td>\n",
       "      <td>21.000000</td>\n",
       "      <td>18.700000</td>\n",
       "      <td>91.000000</td>\n",
       "      <td>83.000000</td>\n",
       "      <td>252.000000</td>\n",
       "      <td>160.000000</td>\n",
       "      <td>287.250000</td>\n",
       "      <td>6569.250000</td>\n",
       "      <td>176.000000</td>\n",
       "      <td>181.000000</td>\n",
       "    </tr>\n",
       "    <tr>\n",
       "      <th>max</th>\n",
       "      <td>8759.000000</td>\n",
       "      <td>33.600000</td>\n",
       "      <td>39.300000</td>\n",
       "      <td>28.300000</td>\n",
       "      <td>100.000000</td>\n",
       "      <td>99.000000</td>\n",
       "      <td>464.000000</td>\n",
       "      <td>355.000000</td>\n",
       "      <td>570.000000</td>\n",
       "      <td>8759.000000</td>\n",
       "      <td>349.000000</td>\n",
       "      <td>542.000000</td>\n",
       "    </tr>\n",
       "  </tbody>\n",
       "</table>\n",
       "</div>"
      ],
      "text/plain": [
       "                ID       temp_1       temp_2  mean_national_temp   humidity_1  \\\n",
       "count  8760.000000  8589.000000  8429.000000         8760.000000  8589.000000   \n",
       "mean   4379.500000    11.402771    15.086274           13.173858    77.351496   \n",
       "std    2528.938512     7.049919     8.463627            6.474700    16.638173   \n",
       "min       0.000000    -5.700000    -7.200000           -1.800000    21.000000   \n",
       "25%    2189.750000     6.100000     9.000000            8.200000    66.000000   \n",
       "50%    4379.500000    11.200000    14.500000           12.800000    81.000000   \n",
       "75%    6569.250000    16.400000    21.000000           18.700000    91.000000   \n",
       "max    8759.000000    33.600000    39.300000           28.300000   100.000000   \n",
       "\n",
       "        humidity_2  consumption_secondary_1  consumption_secondary_2  \\\n",
       "count  8428.000000              8760.000000              8760.000000   \n",
       "mean     63.443284               203.025114               123.581735   \n",
       "std      21.900343                69.792811                65.036526   \n",
       "min      12.000000                84.000000                 0.000000   \n",
       "25%      46.000000               150.000000                73.000000   \n",
       "50%      65.000000               181.000000               107.000000   \n",
       "75%      83.000000               252.000000               160.000000   \n",
       "max      99.000000               464.000000               355.000000   \n",
       "\n",
       "       consumption_secondary_3           ID  consumption_1  consumption_2  \n",
       "count              8760.000000  8760.000000    8760.000000    8760.000000  \n",
       "mean                235.774201  4379.500000     137.549543     148.529909  \n",
       "std                  99.701896  2528.938512      63.146689      73.263972  \n",
       "min                  94.000000     0.000000      38.000000       0.000000  \n",
       "25%                 166.000000  2189.750000      91.000000     105.000000  \n",
       "50%                 194.000000  4379.500000     116.000000     129.000000  \n",
       "75%                 287.250000  6569.250000     176.000000     181.000000  \n",
       "max                 570.000000  8759.000000     349.000000     542.000000  "
      ]
     },
     "execution_count": 35,
     "metadata": {},
     "output_type": "execute_result"
    }
   ],
   "source": [
    "data_raw.describe()"
   ]
  },
  {
   "cell_type": "code",
   "execution_count": 36,
   "metadata": {},
   "outputs": [
    {
     "name": "stdout",
     "output_type": "stream",
     "text": [
      "<class 'pandas.core.frame.DataFrame'>\n",
      "RangeIndex: 8760 entries, 0 to 8759\n",
      "Data columns (total 18 columns):\n",
      "ID                         8760 non-null int64\n",
      "timestamp                  8760 non-null object\n",
      "temp_1                     8589 non-null float64\n",
      "temp_2                     8429 non-null float64\n",
      "mean_national_temp         8760 non-null float64\n",
      "humidity_1                 8589 non-null float64\n",
      "humidity_2                 8428 non-null float64\n",
      "loc_1                      8760 non-null object\n",
      "loc_2                      8760 non-null object\n",
      "loc_secondary_1            8760 non-null object\n",
      "loc_secondary_2            8760 non-null object\n",
      "loc_secondary_3            8760 non-null object\n",
      "consumption_secondary_1    8760 non-null int64\n",
      "consumption_secondary_2    8760 non-null int64\n",
      "consumption_secondary_3    8760 non-null int64\n",
      "ID                         8760 non-null int64\n",
      "consumption_1              8760 non-null int64\n",
      "consumption_2              8760 non-null int64\n",
      "dtypes: float64(5), int64(7), object(6)\n",
      "memory usage: 1.2+ MB\n"
     ]
    }
   ],
   "source": [
    "data_raw.info()"
   ]
  },
  {
   "cell_type": "code",
   "execution_count": 38,
   "metadata": {},
   "outputs": [],
   "source": [
    "data_raw['timestamp'] = pd.to_datetime(data_raw['timestamp'])"
   ]
  },
  {
   "cell_type": "code",
   "execution_count": 39,
   "metadata": {},
   "outputs": [],
   "source": [
    "data_raw.set_index('timestamp', inplace=True)"
   ]
  },
  {
   "cell_type": "code",
   "execution_count": 42,
   "metadata": {},
   "outputs": [
    {
     "name": "stdout",
     "output_type": "stream",
     "text": [
      "<class 'pandas.core.frame.DataFrame'>\n",
      "DatetimeIndex: 8760 entries, 2016-11-01 00:00:00 to 2017-10-31 23:00:00\n",
      "Data columns (total 17 columns):\n",
      "ID                         8760 non-null int64\n",
      "temp_1                     8589 non-null float64\n",
      "temp_2                     8429 non-null float64\n",
      "mean_national_temp         8760 non-null float64\n",
      "humidity_1                 8589 non-null float64\n",
      "humidity_2                 8428 non-null float64\n",
      "loc_1                      8760 non-null object\n",
      "loc_2                      8760 non-null object\n",
      "loc_secondary_1            8760 non-null object\n",
      "loc_secondary_2            8760 non-null object\n",
      "loc_secondary_3            8760 non-null object\n",
      "consumption_secondary_1    8760 non-null int64\n",
      "consumption_secondary_2    8760 non-null int64\n",
      "consumption_secondary_3    8760 non-null int64\n",
      "ID                         8760 non-null int64\n",
      "consumption_1              8760 non-null int64\n",
      "consumption_2              8760 non-null int64\n",
      "dtypes: float64(5), int64(7), object(5)\n",
      "memory usage: 1.2+ MB\n"
     ]
    }
   ],
   "source": [
    "data_raw.info()"
   ]
  },
  {
   "cell_type": "code",
   "execution_count": null,
   "metadata": {},
   "outputs": [],
   "source": []
  },
  {
   "cell_type": "code",
   "execution_count": 76,
   "metadata": {},
   "outputs": [
    {
     "data": {
      "text/html": [
       "<div>\n",
       "<style scoped>\n",
       "    .dataframe tbody tr th:only-of-type {\n",
       "        vertical-align: middle;\n",
       "    }\n",
       "\n",
       "    .dataframe tbody tr th {\n",
       "        vertical-align: top;\n",
       "    }\n",
       "\n",
       "    .dataframe thead th {\n",
       "        text-align: right;\n",
       "    }\n",
       "</style>\n",
       "<table border=\"1\" class=\"dataframe\">\n",
       "  <thead>\n",
       "    <tr style=\"text-align: right;\">\n",
       "      <th></th>\n",
       "      <th>ID</th>\n",
       "      <th>temp_1</th>\n",
       "      <th>temp_2</th>\n",
       "      <th>mean_national_temp</th>\n",
       "      <th>humidity_1</th>\n",
       "      <th>humidity_2</th>\n",
       "      <th>loc_1</th>\n",
       "      <th>loc_2</th>\n",
       "      <th>loc_secondary_1</th>\n",
       "      <th>loc_secondary_2</th>\n",
       "      <th>loc_secondary_3</th>\n",
       "      <th>consumption_secondary_1</th>\n",
       "      <th>consumption_secondary_2</th>\n",
       "      <th>consumption_secondary_3</th>\n",
       "      <th>ID</th>\n",
       "      <th>consumption_1</th>\n",
       "      <th>consumption_2</th>\n",
       "    </tr>\n",
       "    <tr>\n",
       "      <th>timestamp</th>\n",
       "      <th></th>\n",
       "      <th></th>\n",
       "      <th></th>\n",
       "      <th></th>\n",
       "      <th></th>\n",
       "      <th></th>\n",
       "      <th></th>\n",
       "      <th></th>\n",
       "      <th></th>\n",
       "      <th></th>\n",
       "      <th></th>\n",
       "      <th></th>\n",
       "      <th></th>\n",
       "      <th></th>\n",
       "      <th></th>\n",
       "      <th></th>\n",
       "      <th></th>\n",
       "    </tr>\n",
       "  </thead>\n",
       "  <tbody>\n",
       "    <tr>\n",
       "      <th>2016-11-01 00:00:00</th>\n",
       "      <td>0</td>\n",
       "      <td>8.3</td>\n",
       "      <td>NaN</td>\n",
       "      <td>11.1</td>\n",
       "      <td>95.0</td>\n",
       "      <td>NaN</td>\n",
       "      <td>(50.633, 3.067)</td>\n",
       "      <td>(43.530, 5.447)</td>\n",
       "      <td>(44.838, -0.579)</td>\n",
       "      <td>(47.478, -0.563)</td>\n",
       "      <td>(48.867, 2.333)</td>\n",
       "      <td>143</td>\n",
       "      <td>74</td>\n",
       "      <td>168</td>\n",
       "      <td>0</td>\n",
       "      <td>100</td>\n",
       "      <td>93</td>\n",
       "    </tr>\n",
       "    <tr>\n",
       "      <th>2016-11-01 01:00:00</th>\n",
       "      <td>1</td>\n",
       "      <td>8.0</td>\n",
       "      <td>NaN</td>\n",
       "      <td>11.1</td>\n",
       "      <td>98.0</td>\n",
       "      <td>NaN</td>\n",
       "      <td>(50.633, 3.067)</td>\n",
       "      <td>(43.530, 5.447)</td>\n",
       "      <td>(44.838, -0.579)</td>\n",
       "      <td>(47.478, -0.563)</td>\n",
       "      <td>(48.867, 2.333)</td>\n",
       "      <td>141</td>\n",
       "      <td>60</td>\n",
       "      <td>162</td>\n",
       "      <td>1</td>\n",
       "      <td>101</td>\n",
       "      <td>94</td>\n",
       "    </tr>\n",
       "    <tr>\n",
       "      <th>2016-11-01 02:00:00</th>\n",
       "      <td>2</td>\n",
       "      <td>6.8</td>\n",
       "      <td>NaN</td>\n",
       "      <td>11.0</td>\n",
       "      <td>97.0</td>\n",
       "      <td>NaN</td>\n",
       "      <td>(50.633, 3.067)</td>\n",
       "      <td>(43.530, 5.447)</td>\n",
       "      <td>(44.838, -0.579)</td>\n",
       "      <td>(47.478, -0.563)</td>\n",
       "      <td>(48.867, 2.333)</td>\n",
       "      <td>142</td>\n",
       "      <td>60</td>\n",
       "      <td>164</td>\n",
       "      <td>2</td>\n",
       "      <td>100</td>\n",
       "      <td>96</td>\n",
       "    </tr>\n",
       "    <tr>\n",
       "      <th>2016-11-01 03:00:00</th>\n",
       "      <td>3</td>\n",
       "      <td>7.5</td>\n",
       "      <td>NaN</td>\n",
       "      <td>10.9</td>\n",
       "      <td>99.0</td>\n",
       "      <td>NaN</td>\n",
       "      <td>(50.633, 3.067)</td>\n",
       "      <td>(43.530, 5.447)</td>\n",
       "      <td>(44.838, -0.579)</td>\n",
       "      <td>(47.478, -0.563)</td>\n",
       "      <td>(48.867, 2.333)</td>\n",
       "      <td>139</td>\n",
       "      <td>60</td>\n",
       "      <td>162</td>\n",
       "      <td>3</td>\n",
       "      <td>101</td>\n",
       "      <td>95</td>\n",
       "    </tr>\n",
       "    <tr>\n",
       "      <th>2016-11-01 04:00:00</th>\n",
       "      <td>4</td>\n",
       "      <td>6.1</td>\n",
       "      <td>NaN</td>\n",
       "      <td>10.8</td>\n",
       "      <td>98.0</td>\n",
       "      <td>NaN</td>\n",
       "      <td>(50.633, 3.067)</td>\n",
       "      <td>(43.530, 5.447)</td>\n",
       "      <td>(44.838, -0.579)</td>\n",
       "      <td>(47.478, -0.563)</td>\n",
       "      <td>(48.867, 2.333)</td>\n",
       "      <td>154</td>\n",
       "      <td>60</td>\n",
       "      <td>164</td>\n",
       "      <td>4</td>\n",
       "      <td>100</td>\n",
       "      <td>100</td>\n",
       "    </tr>\n",
       "  </tbody>\n",
       "</table>\n",
       "</div>"
      ],
      "text/plain": [
       "                     ID  temp_1  temp_2  mean_national_temp  humidity_1  \\\n",
       "timestamp                                                                 \n",
       "2016-11-01 00:00:00   0     8.3     NaN                11.1        95.0   \n",
       "2016-11-01 01:00:00   1     8.0     NaN                11.1        98.0   \n",
       "2016-11-01 02:00:00   2     6.8     NaN                11.0        97.0   \n",
       "2016-11-01 03:00:00   3     7.5     NaN                10.9        99.0   \n",
       "2016-11-01 04:00:00   4     6.1     NaN                10.8        98.0   \n",
       "\n",
       "                     humidity_2            loc_1            loc_2  \\\n",
       "timestamp                                                           \n",
       "2016-11-01 00:00:00         NaN  (50.633, 3.067)  (43.530, 5.447)   \n",
       "2016-11-01 01:00:00         NaN  (50.633, 3.067)  (43.530, 5.447)   \n",
       "2016-11-01 02:00:00         NaN  (50.633, 3.067)  (43.530, 5.447)   \n",
       "2016-11-01 03:00:00         NaN  (50.633, 3.067)  (43.530, 5.447)   \n",
       "2016-11-01 04:00:00         NaN  (50.633, 3.067)  (43.530, 5.447)   \n",
       "\n",
       "                      loc_secondary_1   loc_secondary_2  loc_secondary_3  \\\n",
       "timestamp                                                                  \n",
       "2016-11-01 00:00:00  (44.838, -0.579)  (47.478, -0.563)  (48.867, 2.333)   \n",
       "2016-11-01 01:00:00  (44.838, -0.579)  (47.478, -0.563)  (48.867, 2.333)   \n",
       "2016-11-01 02:00:00  (44.838, -0.579)  (47.478, -0.563)  (48.867, 2.333)   \n",
       "2016-11-01 03:00:00  (44.838, -0.579)  (47.478, -0.563)  (48.867, 2.333)   \n",
       "2016-11-01 04:00:00  (44.838, -0.579)  (47.478, -0.563)  (48.867, 2.333)   \n",
       "\n",
       "                     consumption_secondary_1  consumption_secondary_2  \\\n",
       "timestamp                                                               \n",
       "2016-11-01 00:00:00                      143                       74   \n",
       "2016-11-01 01:00:00                      141                       60   \n",
       "2016-11-01 02:00:00                      142                       60   \n",
       "2016-11-01 03:00:00                      139                       60   \n",
       "2016-11-01 04:00:00                      154                       60   \n",
       "\n",
       "                     consumption_secondary_3  ID  consumption_1  consumption_2  \n",
       "timestamp                                                                       \n",
       "2016-11-01 00:00:00                      168   0            100             93  \n",
       "2016-11-01 01:00:00                      162   1            101             94  \n",
       "2016-11-01 02:00:00                      164   2            100             96  \n",
       "2016-11-01 03:00:00                      162   3            101             95  \n",
       "2016-11-01 04:00:00                      164   4            100            100  "
      ]
     },
     "execution_count": 76,
     "metadata": {},
     "output_type": "execute_result"
    }
   ],
   "source": [
    "data_raw.head()"
   ]
  },
  {
   "cell_type": "code",
   "execution_count": 11,
   "metadata": {},
   "outputs": [
    {
     "data": {
      "text/plain": [
       "(8760, 17)"
      ]
     },
     "execution_count": 11,
     "metadata": {},
     "output_type": "execute_result"
    }
   ],
   "source": [
    "data_raw.shape\n"
   ]
  },
  {
   "cell_type": "code",
   "execution_count": 43,
   "metadata": {},
   "outputs": [],
   "source": [
    "df = data_raw.loc[:, ['temp_1', 'temp_2','mean_national_temp', 'humidity_1', 'humidity_2', \n",
    "                              'consumption_secondary_1', 'consumption_secondary_2', 'consumption_secondary_3','consumption_1','consumption_2']]\n"
   ]
  },
  {
   "cell_type": "code",
   "execution_count": 44,
   "metadata": {},
   "outputs": [
    {
     "data": {
      "text/plain": [
       "(8760, 10)"
      ]
     },
     "execution_count": 44,
     "metadata": {},
     "output_type": "execute_result"
    }
   ],
   "source": [
    "df.shape\n"
   ]
  },
  {
   "cell_type": "code",
   "execution_count": 45,
   "metadata": {},
   "outputs": [
    {
     "data": {
      "text/plain": [
       "Index(['temp_1', 'temp_2', 'mean_national_temp', 'humidity_1', 'humidity_2',\n",
       "       'consumption_secondary_1', 'consumption_secondary_2',\n",
       "       'consumption_secondary_3', 'consumption_1', 'consumption_2'],\n",
       "      dtype='object')"
      ]
     },
     "execution_count": 45,
     "metadata": {},
     "output_type": "execute_result"
    }
   ],
   "source": [
    "df.columns"
   ]
  },
  {
   "cell_type": "code",
   "execution_count": 46,
   "metadata": {},
   "outputs": [],
   "source": [
    "# Providing the index to the time series\n",
    "data_DF = pd.DataFrame(data = df.values, \n",
    "                           columns = ['temp_1', 'temp_2', 'mean_national_temp', 'humidity_1', 'humidity_2',\n",
    "       'consumption_secondary_1', 'consumption_secondary_2',\n",
    "       'consumption_secondary_3', 'consumption_1', 'consumption_2'],\n",
    "                           index = pd.date_range(start = '2016-11-01 00:00:00', \n",
    "                                                 periods = 8760, \n",
    "                                                 freq = 'H'))"
   ]
  },
  {
   "cell_type": "code",
   "execution_count": 48,
   "metadata": {},
   "outputs": [
    {
     "data": {
      "text/html": [
       "<div>\n",
       "<style scoped>\n",
       "    .dataframe tbody tr th:only-of-type {\n",
       "        vertical-align: middle;\n",
       "    }\n",
       "\n",
       "    .dataframe tbody tr th {\n",
       "        vertical-align: top;\n",
       "    }\n",
       "\n",
       "    .dataframe thead th {\n",
       "        text-align: right;\n",
       "    }\n",
       "</style>\n",
       "<table border=\"1\" class=\"dataframe\">\n",
       "  <thead>\n",
       "    <tr style=\"text-align: right;\">\n",
       "      <th></th>\n",
       "      <th>temp_1</th>\n",
       "      <th>temp_2</th>\n",
       "      <th>mean_national_temp</th>\n",
       "      <th>humidity_1</th>\n",
       "      <th>humidity_2</th>\n",
       "      <th>consumption_secondary_1</th>\n",
       "      <th>consumption_secondary_2</th>\n",
       "      <th>consumption_secondary_3</th>\n",
       "      <th>consumption_1</th>\n",
       "      <th>consumption_2</th>\n",
       "    </tr>\n",
       "  </thead>\n",
       "  <tbody>\n",
       "    <tr>\n",
       "      <th>2016-11-01 00:00:00</th>\n",
       "      <td>8.3</td>\n",
       "      <td>NaN</td>\n",
       "      <td>11.1</td>\n",
       "      <td>95.0</td>\n",
       "      <td>NaN</td>\n",
       "      <td>143.0</td>\n",
       "      <td>74.0</td>\n",
       "      <td>168.0</td>\n",
       "      <td>100.0</td>\n",
       "      <td>93.0</td>\n",
       "    </tr>\n",
       "    <tr>\n",
       "      <th>2016-11-01 01:00:00</th>\n",
       "      <td>8.0</td>\n",
       "      <td>NaN</td>\n",
       "      <td>11.1</td>\n",
       "      <td>98.0</td>\n",
       "      <td>NaN</td>\n",
       "      <td>141.0</td>\n",
       "      <td>60.0</td>\n",
       "      <td>162.0</td>\n",
       "      <td>101.0</td>\n",
       "      <td>94.0</td>\n",
       "    </tr>\n",
       "    <tr>\n",
       "      <th>2016-11-01 02:00:00</th>\n",
       "      <td>6.8</td>\n",
       "      <td>NaN</td>\n",
       "      <td>11.0</td>\n",
       "      <td>97.0</td>\n",
       "      <td>NaN</td>\n",
       "      <td>142.0</td>\n",
       "      <td>60.0</td>\n",
       "      <td>164.0</td>\n",
       "      <td>100.0</td>\n",
       "      <td>96.0</td>\n",
       "    </tr>\n",
       "    <tr>\n",
       "      <th>2016-11-01 03:00:00</th>\n",
       "      <td>7.5</td>\n",
       "      <td>NaN</td>\n",
       "      <td>10.9</td>\n",
       "      <td>99.0</td>\n",
       "      <td>NaN</td>\n",
       "      <td>139.0</td>\n",
       "      <td>60.0</td>\n",
       "      <td>162.0</td>\n",
       "      <td>101.0</td>\n",
       "      <td>95.0</td>\n",
       "    </tr>\n",
       "    <tr>\n",
       "      <th>2016-11-01 04:00:00</th>\n",
       "      <td>6.1</td>\n",
       "      <td>NaN</td>\n",
       "      <td>10.8</td>\n",
       "      <td>98.0</td>\n",
       "      <td>NaN</td>\n",
       "      <td>154.0</td>\n",
       "      <td>60.0</td>\n",
       "      <td>164.0</td>\n",
       "      <td>100.0</td>\n",
       "      <td>100.0</td>\n",
       "    </tr>\n",
       "  </tbody>\n",
       "</table>\n",
       "</div>"
      ],
      "text/plain": [
       "                     temp_1  temp_2  mean_national_temp  humidity_1  \\\n",
       "2016-11-01 00:00:00     8.3     NaN                11.1        95.0   \n",
       "2016-11-01 01:00:00     8.0     NaN                11.1        98.0   \n",
       "2016-11-01 02:00:00     6.8     NaN                11.0        97.0   \n",
       "2016-11-01 03:00:00     7.5     NaN                10.9        99.0   \n",
       "2016-11-01 04:00:00     6.1     NaN                10.8        98.0   \n",
       "\n",
       "                     humidity_2  consumption_secondary_1  \\\n",
       "2016-11-01 00:00:00         NaN                    143.0   \n",
       "2016-11-01 01:00:00         NaN                    141.0   \n",
       "2016-11-01 02:00:00         NaN                    142.0   \n",
       "2016-11-01 03:00:00         NaN                    139.0   \n",
       "2016-11-01 04:00:00         NaN                    154.0   \n",
       "\n",
       "                     consumption_secondary_2  consumption_secondary_3  \\\n",
       "2016-11-01 00:00:00                     74.0                    168.0   \n",
       "2016-11-01 01:00:00                     60.0                    162.0   \n",
       "2016-11-01 02:00:00                     60.0                    164.0   \n",
       "2016-11-01 03:00:00                     60.0                    162.0   \n",
       "2016-11-01 04:00:00                     60.0                    164.0   \n",
       "\n",
       "                     consumption_1  consumption_2  \n",
       "2016-11-01 00:00:00          100.0           93.0  \n",
       "2016-11-01 01:00:00          101.0           94.0  \n",
       "2016-11-01 02:00:00          100.0           96.0  \n",
       "2016-11-01 03:00:00          101.0           95.0  \n",
       "2016-11-01 04:00:00          100.0          100.0  "
      ]
     },
     "execution_count": 48,
     "metadata": {},
     "output_type": "execute_result"
    }
   ],
   "source": [
    "data_DF.head()"
   ]
  },
  {
   "cell_type": "code",
   "execution_count": 49,
   "metadata": {},
   "outputs": [
    {
     "name": "stdout",
     "output_type": "stream",
     "text": [
      "<class 'pandas.core.frame.DataFrame'>\n",
      "DatetimeIndex: 8760 entries, 2016-11-01 00:00:00 to 2017-10-31 23:00:00\n",
      "Freq: H\n",
      "Data columns (total 10 columns):\n",
      "temp_1                     8589 non-null float64\n",
      "temp_2                     8429 non-null float64\n",
      "mean_national_temp         8760 non-null float64\n",
      "humidity_1                 8589 non-null float64\n",
      "humidity_2                 8428 non-null float64\n",
      "consumption_secondary_1    8760 non-null float64\n",
      "consumption_secondary_2    8760 non-null float64\n",
      "consumption_secondary_3    8760 non-null float64\n",
      "consumption_1              8760 non-null float64\n",
      "consumption_2              8760 non-null float64\n",
      "dtypes: float64(10)\n",
      "memory usage: 752.8 KB\n"
     ]
    }
   ],
   "source": [
    "data_DF.info()"
   ]
  },
  {
   "cell_type": "code",
   "execution_count": 14,
   "metadata": {},
   "outputs": [],
   "source": [
    "import pandas as pd\n",
    "import numpy as np\n",
    "import matplotlib.pyplot as plt\n",
    "%matplotlib inline\n",
    "\n",
    "# Import Statsmodels\n",
    "from statsmodels.tsa.api import VAR\n",
    "from statsmodels.tsa.stattools import adfuller\n",
    "from statsmodels.tools.eval_measures import rmse, aic"
   ]
  },
  {
   "cell_type": "code",
   "execution_count": 15,
   "metadata": {},
   "outputs": [
    {
     "name": "stderr",
     "output_type": "stream",
     "text": [
      "/Users/schatagn/goinfre/miniconda3/lib/python3.7/site-packages/pandas/plotting/_converter.py:129: FutureWarning: Using an implicitly registered datetime converter for a matplotlib plotting method. The converter was registered by pandas on import. Future versions of pandas will require you to explicitly register matplotlib converters.\n",
      "\n",
      "To register the converters:\n",
      "\t>>> from pandas.plotting import register_matplotlib_converters\n",
      "\t>>> register_matplotlib_converters()\n",
      "  warnings.warn(msg, FutureWarning)\n"
     ]
    },
    {
     "data": {
      "image/png": "[encoded data removed]",
      "text/plain": [
       "<Figure size 1200x720 with 8 Axes>"
      ]
     },
     "metadata": {
      "needs_background": "light"
     },
     "output_type": "display_data"
    }
   ],
   "source": [
    "# Plot\n",
    "fig, axes = plt.subplots(nrows=4, ncols=2, dpi=120, figsize=(10,6))\n",
    "for i, ax in enumerate(axes.flatten()):\n",
    "    data = df[df.columns[i]]\n",
    "    ax.plot(data, color='red', linewidth=1)\n",
    "    # Decorations\n",
    "    ax.set_title(df.columns[i])\n",
    "    ax.xaxis.set_ticks_position('none')\n",
    "    ax.yaxis.set_ticks_position('none')\n",
    "    ax.spines[\"top\"].set_alpha(0)\n",
    "    ax.tick_params(labelsize=6)\n",
    "\n",
    "plt.tight_layout();"
   ]
  },
  {
   "cell_type": "code",
   "execution_count": 16,
   "metadata": {},
   "outputs": [],
   "source": [
    "df1 = processing(df) #si activation remettre les df1 de dessus en df"
   ]
  },
  {
   "cell_type": "code",
   "execution_count": 17,
   "metadata": {},
   "outputs": [
    {
     "data": {
      "text/plain": [
       "DatetimeIndex(['2016-11-01 00:00:00', '2016-11-01 01:00:00',\n",
       "               '2016-11-01 02:00:00', '2016-11-01 03:00:00',\n",
       "               '2016-11-01 04:00:00', '2016-11-01 05:00:00',\n",
       "               '2016-11-01 06:00:00', '2016-11-01 07:00:00',\n",
       "               '2016-11-01 08:00:00', '2016-11-01 09:00:00',\n",
       "               ...\n",
       "               '2017-10-31 14:00:00', '2017-10-31 15:00:00',\n",
       "               '2017-10-31 16:00:00', '2017-10-31 17:00:00',\n",
       "               '2017-10-31 18:00:00', '2017-10-31 19:00:00',\n",
       "               '2017-10-31 20:00:00', '2017-10-31 21:00:00',\n",
       "               '2017-10-31 22:00:00', '2017-10-31 23:00:00'],\n",
       "              dtype='datetime64[ns]', name='timestamp', length=8760, freq=None)"
      ]
     },
     "execution_count": 17,
     "metadata": {},
     "output_type": "execute_result"
    }
   ],
   "source": [
    "df1.index = pd.to_datetime(df.index)\n",
    "df1.index"
   ]
  },
  {
   "cell_type": "code",
   "execution_count": 18,
   "metadata": {},
   "outputs": [
    {
     "data": {
      "text/plain": [
       "(8760, 10)"
      ]
     },
     "execution_count": 18,
     "metadata": {},
     "output_type": "execute_result"
    }
   ],
   "source": [
    "df1.shape"
   ]
  },
  {
   "cell_type": "code",
   "execution_count": 19,
   "metadata": {},
   "outputs": [
    {
     "data": {
      "text/html": [
       "<div>\n",
       "<style scoped>\n",
       "    .dataframe tbody tr th:only-of-type {\n",
       "        vertical-align: middle;\n",
       "    }\n",
       "\n",
       "    .dataframe tbody tr th {\n",
       "        vertical-align: top;\n",
       "    }\n",
       "\n",
       "    .dataframe thead th {\n",
       "        text-align: right;\n",
       "    }\n",
       "</style>\n",
       "<table border=\"1\" class=\"dataframe\">\n",
       "  <thead>\n",
       "    <tr style=\"text-align: right;\">\n",
       "      <th></th>\n",
       "      <th>temp_1</th>\n",
       "      <th>temp_2</th>\n",
       "      <th>mean_national_temp</th>\n",
       "      <th>humidity_1</th>\n",
       "      <th>humidity_2</th>\n",
       "      <th>consumption_secondary_1</th>\n",
       "      <th>consumption_secondary_2</th>\n",
       "      <th>consumption_secondary_3</th>\n",
       "      <th>consumption_1</th>\n",
       "      <th>consumption_2</th>\n",
       "    </tr>\n",
       "    <tr>\n",
       "      <th>timestamp</th>\n",
       "      <th></th>\n",
       "      <th></th>\n",
       "      <th></th>\n",
       "      <th></th>\n",
       "      <th></th>\n",
       "      <th></th>\n",
       "      <th></th>\n",
       "      <th></th>\n",
       "      <th></th>\n",
       "      <th></th>\n",
       "    </tr>\n",
       "  </thead>\n",
       "  <tbody>\n",
       "    <tr>\n",
       "      <th>2016-11-01 00:00:00</th>\n",
       "      <td>8.3</td>\n",
       "      <td>12.644951</td>\n",
       "      <td>11.1</td>\n",
       "      <td>95.0</td>\n",
       "      <td>71.201769</td>\n",
       "      <td>143.0</td>\n",
       "      <td>74.0</td>\n",
       "      <td>168.0</td>\n",
       "      <td>100.0</td>\n",
       "      <td>93.0</td>\n",
       "    </tr>\n",
       "    <tr>\n",
       "      <th>2016-11-01 01:00:00</th>\n",
       "      <td>8.0</td>\n",
       "      <td>12.405404</td>\n",
       "      <td>11.1</td>\n",
       "      <td>98.0</td>\n",
       "      <td>72.319591</td>\n",
       "      <td>141.0</td>\n",
       "      <td>60.0</td>\n",
       "      <td>162.0</td>\n",
       "      <td>101.0</td>\n",
       "      <td>94.0</td>\n",
       "    </tr>\n",
       "  </tbody>\n",
       "</table>\n",
       "</div>"
      ],
      "text/plain": [
       "                     temp_1     temp_2  mean_national_temp  humidity_1  \\\n",
       "timestamp                                                                \n",
       "2016-11-01 00:00:00     8.3  12.644951                11.1        95.0   \n",
       "2016-11-01 01:00:00     8.0  12.405404                11.1        98.0   \n",
       "\n",
       "                     humidity_2  consumption_secondary_1  \\\n",
       "timestamp                                                  \n",
       "2016-11-01 00:00:00   71.201769                    143.0   \n",
       "2016-11-01 01:00:00   72.319591                    141.0   \n",
       "\n",
       "                     consumption_secondary_2  consumption_secondary_3  \\\n",
       "timestamp                                                               \n",
       "2016-11-01 00:00:00                     74.0                    168.0   \n",
       "2016-11-01 01:00:00                     60.0                    162.0   \n",
       "\n",
       "                     consumption_1  consumption_2  \n",
       "timestamp                                          \n",
       "2016-11-01 00:00:00          100.0           93.0  \n",
       "2016-11-01 01:00:00          101.0           94.0  "
      ]
     },
     "execution_count": 19,
     "metadata": {},
     "output_type": "execute_result"
    }
   ],
   "source": [
    "df1.head(2)"
   ]
  },
  {
   "cell_type": "code",
   "execution_count": 20,
   "metadata": {},
   "outputs": [],
   "source": [
    "df2 = df1.copy()"
   ]
  },
  {
   "cell_type": "code",
   "execution_count": null,
   "metadata": {},
   "outputs": [],
   "source": []
  },
  {
   "cell_type": "markdown",
   "metadata": {},
   "source": [
    "## CHECK STATIONARITY\n"
   ]
  },
  {
   "cell_type": "code",
   "execution_count": 32,
   "metadata": {},
   "outputs": [
    {
     "name": "stdout",
     "output_type": "stream",
     "text": [
      "Results of Dickey-Fuller Test:\n",
      "***   temp_1  *** Running ADF Stationarity test\n",
      "Test Statistic                   -3.578514\n",
      "p-value                           0.006185\n",
      "#Lags Used                       37.000000\n",
      "Number of Observations Used    8722.000000\n",
      "Critical Value (1%)              -3.431100\n",
      "Critical Value (5%)              -2.861871\n",
      "Critical Value (10%)             -2.566946\n",
      "dtype: float64\n",
      "\t Conclusion: Series is stationary at 95% CI\n",
      "\n",
      "Results of Dickey-Fuller Test:\n",
      "***   temp_2  *** Running ADF Stationarity test\n",
      "Test Statistic                   -3.348876\n",
      "p-value                           0.012830\n",
      "#Lags Used                       28.000000\n",
      "Number of Observations Used    8731.000000\n",
      "Critical Value (1%)              -3.431099\n",
      "Critical Value (5%)              -2.861871\n",
      "Critical Value (10%)             -2.566946\n",
      "dtype: float64\n",
      "\t Conclusion: Series is stationary at 95% CI\n",
      "\n",
      "Results of Dickey-Fuller Test:\n",
      "***   mean_national_temp  *** Running ADF Stationarity test\n",
      "Test Statistic                   -2.307181\n",
      "p-value                           0.169663\n",
      "#Lags Used                       37.000000\n",
      "Number of Observations Used    8722.000000\n",
      "Critical Value (1%)              -3.431100\n",
      "Critical Value (5%)              -2.861871\n",
      "Critical Value (10%)             -2.566946\n",
      "dtype: float64\n",
      "\t Conclusion: Series is non-stationary\n",
      "\n",
      "Results of Dickey-Fuller Test:\n",
      "***   humidity_1  *** Running ADF Stationarity test\n",
      "Test Statistic                -7.209906e+00\n",
      "p-value                        2.248971e-10\n",
      "#Lags Used                     3.700000e+01\n",
      "Number of Observations Used    8.722000e+03\n",
      "Critical Value (1%)           -3.431100e+00\n",
      "Critical Value (5%)           -2.861871e+00\n",
      "Critical Value (10%)          -2.566946e+00\n",
      "dtype: float64\n",
      "\t Conclusion: Series is stationary at 95% CI\n",
      "\n",
      "Results of Dickey-Fuller Test:\n",
      "***   humidity_2  *** Running ADF Stationarity test\n",
      "Test Statistic                -7.782785e+00\n",
      "p-value                        8.331163e-12\n",
      "#Lags Used                     3.700000e+01\n",
      "Number of Observations Used    8.722000e+03\n",
      "Critical Value (1%)           -3.431100e+00\n",
      "Critical Value (5%)           -2.861871e+00\n",
      "Critical Value (10%)          -2.566946e+00\n",
      "dtype: float64\n",
      "\t Conclusion: Series is stationary at 95% CI\n",
      "\n",
      "Results of Dickey-Fuller Test:\n",
      "***   consumption_secondary_1  *** Running ADF Stationarity test\n",
      "Test Statistic                -1.094177e+01\n",
      "p-value                        9.257566e-20\n",
      "#Lags Used                     3.700000e+01\n",
      "Number of Observations Used    8.722000e+03\n",
      "Critical Value (1%)           -3.431100e+00\n",
      "Critical Value (5%)           -2.861871e+00\n",
      "Critical Value (10%)          -2.566946e+00\n",
      "dtype: float64\n",
      "\t Conclusion: Series is stationary at 95% CI\n",
      "\n",
      "Results of Dickey-Fuller Test:\n",
      "***   consumption_secondary_2  *** Running ADF Stationarity test\n",
      "Test Statistic                -8.455478e+00\n",
      "p-value                        1.619259e-13\n",
      "#Lags Used                     3.700000e+01\n",
      "Number of Observations Used    8.722000e+03\n",
      "Critical Value (1%)           -3.431100e+00\n",
      "Critical Value (5%)           -2.861871e+00\n",
      "Critical Value (10%)          -2.566946e+00\n",
      "dtype: float64\n",
      "\t Conclusion: Series is stationary at 95% CI\n",
      "\n",
      "Results of Dickey-Fuller Test:\n",
      "***   consumption_secondary_3  *** Running ADF Stationarity test\n",
      "Test Statistic                -9.555919e+00\n",
      "p-value                        2.499232e-16\n",
      "#Lags Used                     3.700000e+01\n",
      "Number of Observations Used    8.722000e+03\n",
      "Critical Value (1%)           -3.431100e+00\n",
      "Critical Value (5%)           -2.861871e+00\n",
      "Critical Value (10%)          -2.566946e+00\n",
      "dtype: float64\n",
      "\t Conclusion: Series is stationary at 95% CI\n",
      "\n",
      "Results of Dickey-Fuller Test:\n",
      "***   consumption_1  *** Running ADF Stationarity test\n",
      "Test Statistic                -8.125894e+00\n",
      "p-value                        1.123480e-12\n",
      "#Lags Used                     3.700000e+01\n",
      "Number of Observations Used    8.722000e+03\n",
      "Critical Value (1%)           -3.431100e+00\n",
      "Critical Value (5%)           -2.861871e+00\n",
      "Critical Value (10%)          -2.566946e+00\n",
      "dtype: float64\n",
      "\t Conclusion: Series is stationary at 95% CI\n",
      "\n",
      "Results of Dickey-Fuller Test:\n",
      "***   consumption_2  *** Running ADF Stationarity test\n",
      "Test Statistic                   -4.688609\n",
      "p-value                           0.000088\n",
      "#Lags Used                       37.000000\n",
      "Number of Observations Used    8722.000000\n",
      "Critical Value (1%)              -3.431100\n",
      "Critical Value (5%)              -2.861871\n",
      "Critical Value (10%)             -2.566946\n",
      "dtype: float64\n",
      "\t Conclusion: Series is stationary at 95% CI\n",
      "\n"
     ]
    },
    {
     "data": {
      "text/plain": [
       "temp_1                     Series is Stationary @95% CI\n",
       "temp_2                     Series is Stationary @95% CI\n",
       "mean_national_temp             Series is non-Stationary\n",
       "humidity_1                 Series is Stationary @95% CI\n",
       "humidity_2                 Series is Stationary @95% CI\n",
       "consumption_secondary_1    Series is Stationary @95% CI\n",
       "consumption_secondary_2    Series is Stationary @95% CI\n",
       "consumption_secondary_3    Series is Stationary @95% CI\n",
       "consumption_1              Series is Stationary @95% CI\n",
       "consumption_2              Series is Stationary @95% CI\n",
       "dtype: object"
      ]
     },
     "execution_count": 32,
     "metadata": {},
     "output_type": "execute_result"
    }
   ],
   "source": [
    "# Loop to check all columns of the DF\n",
    "\n",
    "df2.apply(functools.partial(test_stationarity))"
   ]
  },
  {
   "cell_type": "markdown",
   "metadata": {},
   "source": [
    "c/c : todo remove  mean_national_temp: Series is non-stationary.******* se pose la question, si une variable non_stationary, est ce que je dois differencing all the columns? "
   ]
  },
  {
   "cell_type": "markdown",
   "metadata": {},
   "source": [
    "quid de la sesonality? esssayer avec et aussi remove seasonality "
   ]
  },
  {
   "cell_type": "code",
   "execution_count": null,
   "metadata": {},
   "outputs": [],
   "source": []
  },
  {
   "cell_type": "code",
   "execution_count": null,
   "metadata": {},
   "outputs": [],
   "source": []
  },
  {
   "cell_type": "code",
   "execution_count": null,
   "metadata": {},
   "outputs": [],
   "source": []
  },
  {
   "cell_type": "code",
   "execution_count": null,
   "metadata": {},
   "outputs": [],
   "source": []
  },
  {
   "cell_type": "code",
   "execution_count": null,
   "metadata": {},
   "outputs": [],
   "source": [
    "df2 = df2.resample('D').mean()"
   ]
  },
  {
   "cell_type": "code",
   "execution_count": null,
   "metadata": {},
   "outputs": [],
   "source": []
  },
  {
   "cell_type": "code",
   "execution_count": null,
   "metadata": {},
   "outputs": [],
   "source": []
  },
  {
   "cell_type": "code",
   "execution_count": null,
   "metadata": {},
   "outputs": [],
   "source": []
  },
  {
   "cell_type": "code",
   "execution_count": null,
   "metadata": {},
   "outputs": [],
   "source": []
  },
  {
   "cell_type": "code",
   "execution_count": null,
   "metadata": {},
   "outputs": [],
   "source": [
    "df1.shape\n"
   ]
  },
  {
   "cell_type": "code",
   "execution_count": null,
   "metadata": {},
   "outputs": [],
   "source": [
    "df2.shape"
   ]
  },
  {
   "cell_type": "code",
   "execution_count": null,
   "metadata": {},
   "outputs": [],
   "source": [
    "df2.info()"
   ]
  },
  {
   "cell_type": "code",
   "execution_count": null,
   "metadata": {},
   "outputs": [],
   "source": [
    "from statsmodels.tsa.stattools import grangercausalitytests\n",
    "maxlag=2\n",
    "test = 'ssr_chi2test'\n",
    "def grangers_causation_matrix(data, variables, test='ssr_chi2test', verbose=False):    \n",
    "    \"\"\"Check Granger Causality of all possible combinations of the Time series.\n",
    "    The rows are the response variable, columns are predictors. The values in the table \n",
    "    are the P-Values. P-Values lesser than the significance level (0.05), implies \n",
    "    the Null Hypothesis that the coefficients of the corresponding past values is \n",
    "    zero, that is, the X does not cause Y can be rejected.\n",
    "\n",
    "    data      : pandas dataframe containing the time series variables\n",
    "    variables : list containing names of the time series variables.\n",
    "    \"\"\"\n",
    "    df = pd.DataFrame(np.zeros((len(variables), len(variables))), columns=variables, index=variables)\n",
    "    for c in df.columns:\n",
    "        for r in df.index:\n",
    "            test_result = grangercausalitytests(data[[r, c]], maxlag=maxlag, verbose=False)\n",
    "            p_values = [round(test_result[i+1][0][test][1],4) for i in range(maxlag)]\n",
    "            if verbose: print(f'Y = {r}, X = {c}, P Values = {p_values}')\n",
    "            min_p_value = np.min(p_values)\n",
    "            df.loc[r, c] = min_p_value\n",
    "    df.columns = [var + '_x' for var in variables]\n",
    "    df.index = [var + '_y' for var in variables]\n",
    "    return df\n"
   ]
  },
  {
   "cell_type": "code",
   "execution_count": null,
   "metadata": {},
   "outputs": [],
   "source": [
    "\n",
    "grangers_causation_matrix(df2, variables = df2.columns)    "
   ]
  },
  {
   "cell_type": "code",
   "execution_count": null,
   "metadata": {},
   "outputs": [],
   "source": [
    "from statsmodels.tsa.vector_ar.vecm import coint_johansen"
   ]
  },
  {
   "cell_type": "code",
   "execution_count": null,
   "metadata": {},
   "outputs": [],
   "source": [
    "def cointegration_test(df, alpha=0.05): \n",
    "    \"\"\"Perform Johanson's Cointegration Test and Report Summary\"\"\"\n",
    "    out = coint_johansen(df,-1,5)\n",
    "    d = {'0.90':0, '0.95':1, '0.99':2}\n",
    "    traces = out.lr1\n",
    "    cvts = out.cvt[:, d[str(1-alpha)]]\n",
    "    def adjust(val, length= 6): return str(val).ljust(length)\n",
    "\n",
    "    # Summary\n",
    "    print('Name   ::  Test Stat > C(95%)    =>   Signif  \\n', '--'*20)\n",
    "    for col, trace, cvt in zip(df.columns, traces, cvts):\n",
    "        print(adjust(col), ':: ', adjust(round(trace,2), 9), \">\", adjust(cvt, 8), ' =>  ' , trace > cvt)\n",
    "\n",
    "cointegration_test(df1)"
   ]
  },
  {
   "cell_type": "code",
   "execution_count": null,
   "metadata": {},
   "outputs": [],
   "source": [
    "#split\n",
    "nobs = 292\n",
    "df1_train, df1_test = df1[0:-nobs], df1[-nobs:]\n",
    "\n",
    "# Check size\n",
    "print(df1_train.shape)  # (8468, 8)()\n",
    "print(df1_test.shape)  # 292, 8)"
   ]
  },
  {
   "cell_type": "code",
   "execution_count": null,
   "metadata": {},
   "outputs": [],
   "source": []
  },
  {
   "cell_type": "code",
   "execution_count": null,
   "metadata": {},
   "outputs": [],
   "source": [
    "df1_train.index"
   ]
  },
  {
   "cell_type": "code",
   "execution_count": null,
   "metadata": {},
   "outputs": [],
   "source": [
    "def adfuller_test(series, signif=0.05, name='', verbose=False):\n",
    "    \"\"\"Perform ADFuller to test for Stationarity of given series and print report\"\"\"\n",
    "    r = adfuller(series, autolag='AIC')\n",
    "    output = {'test_statistic':r[0], 'pvalue':r[1],  'n_lags':r[2], 'n_obs':r[3]}\n",
    "    p_value = output['pvalue'] \n",
    "    def adjust(val, length= 6): return str(val).ljust(length)\n",
    "\n",
    "    # Print Summary\n",
    "    print(f'    Augmented Dickey-Fuller Test on \"{name}\"', \"\\n   \", '-'*47)\n",
    "    print(f' Null Hypothesis: Data has unit root. Non-Stationary.')\n",
    "    print(f' Significance Level    = {signif}')\n",
    "    print(f' Test Statistic        = {output[\"test_statistic\"]}')\n",
    "    print(f' No. Lags Chosen       = {output[\"n_lags\"]}')\n",
    "\n",
    "    for key,val in r[4].items():\n",
    "        print(f' Critical value {adjust(key)} = {round(val, 5)}')\n",
    "\n",
    "    if p_value <= signif:\n",
    "        print(f\" => P-Value = {p_value}. Rejecting Null Hypothesis.\")\n",
    "        print(f\" => Series is Stationary.\")\n",
    "    else:\n",
    "        print(f\" => P-Value = {p_value}. Weak evidence to reject the Null Hypothesis.\")\n",
    "        print(f\" => Series is Non-Stationary.\")   \n",
    "          \n",
    "         "
   ]
  },
  {
   "cell_type": "code",
   "execution_count": null,
   "metadata": {},
   "outputs": [],
   "source": [
    "# ADF Test on each column\n",
    "for name, column in df1_train.iteritems():\n",
    "    adfuller_test(column, name=column.name)\n",
    "    print('\\n')"
   ]
  },
  {
   "cell_type": "code",
   "execution_count": null,
   "metadata": {},
   "outputs": [],
   "source": [
    "df1_differenced = df1_train.diff(366).dropna()"
   ]
  },
  {
   "cell_type": "code",
   "execution_count": null,
   "metadata": {},
   "outputs": [],
   "source": [
    "# ADF Test on each column of 1st Differences Dataframe\n",
    "for name, column in df1_differenced.iteritems():\n",
    "    adfuller_test(column, name=column.name)\n",
    "    print('\\n')"
   ]
  },
  {
   "cell_type": "code",
   "execution_count": null,
   "metadata": {},
   "outputs": [],
   "source": [
    "df1_train.head()"
   ]
  },
  {
   "cell_type": "code",
   "execution_count": null,
   "metadata": {},
   "outputs": [],
   "source": [
    "df1_differenced.head()"
   ]
  },
  {
   "cell_type": "code",
   "execution_count": null,
   "metadata": {},
   "outputs": [],
   "source": [
    "model = VAR(df1_differenced)"
   ]
  },
  {
   "cell_type": "code",
   "execution_count": null,
   "metadata": {},
   "outputs": [],
   "source": [
    "model.select_order(30)"
   ]
  },
  {
   "cell_type": "code",
   "execution_count": null,
   "metadata": {},
   "outputs": [],
   "source": [
    "res= model.fit(maxlags=15, ic='aic')"
   ]
  },
  {
   "cell_type": "code",
   "execution_count": null,
   "metadata": {},
   "outputs": [],
   "source": [
    "res.summary()"
   ]
  },
  {
   "cell_type": "code",
   "execution_count": null,
   "metadata": {},
   "outputs": [],
   "source": [
    "res.plot_acorr()"
   ]
  },
  {
   "cell_type": "code",
   "execution_count": null,
   "metadata": {},
   "outputs": [],
   "source": [
    "\n",
    "for i in [1,2,3,4,5,6,7,8,9, 10, 11, 12, 13, 14]:\n",
    "    result = model.fit(i)\n",
    "    print('Lag Order =', i)\n",
    "    print('AIC : ', result.aic)\n",
    "    print('BIC : ', result.bic)\n",
    "    print('FPE : ', result.fpe)\n",
    "    print('HQIC: ', result.hqic, '\\n')"
   ]
  },
  {
   "cell_type": "code",
   "execution_count": null,
   "metadata": {},
   "outputs": [],
   "source": [
    "x = model.select_order(maxlags=37)\n",
    "x.summary()"
   ]
  },
  {
   "cell_type": "code",
   "execution_count": null,
   "metadata": {},
   "outputs": [],
   "source": [
    "model_fitted = model.fit(28)\n",
    "model_fitted.summary()"
   ]
  },
  {
   "cell_type": "markdown",
   "metadata": {},
   "source": [
    "A common way of checking for serial correlation of errors can be measured using the Durbin Watson’s Statistic.\n",
    "\n",
    "Durbin Watson Statistic - Formula\n",
    "\n",
    "The value of this statistic can vary between 0 and 4. The closer it is to the value 2, then there is no significant serial correlation. The closer to 0, there is a positive serial correlation, and the closer it is to 4 implies negative serial correlation."
   ]
  },
  {
   "cell_type": "code",
   "execution_count": null,
   "metadata": {},
   "outputs": [],
   "source": [
    "from statsmodels.stats.stattools import durbin_watson\n"
   ]
  },
  {
   "cell_type": "code",
   "execution_count": null,
   "metadata": {},
   "outputs": [],
   "source": [
    "out = durbin_watson(model_fitted.resid)"
   ]
  },
  {
   "cell_type": "code",
   "execution_count": null,
   "metadata": {},
   "outputs": [],
   "source": [
    "for col, val in zip(df1.columns, out):\n",
    "    print(col, ':', round(val, 2))"
   ]
  },
  {
   "cell_type": "code",
   "execution_count": null,
   "metadata": {},
   "outputs": [],
   "source": [
    "# Get the lag order\n",
    "lag_order = model_fitted.k_ar\n",
    "print(lag_order)  #> 4"
   ]
  },
  {
   "cell_type": "code",
   "execution_count": null,
   "metadata": {},
   "outputs": [],
   "source": [
    "# Input data for forecasting\n",
    "forecast_input = df1_differenced.values[-lag_order:]\n",
    "forecast_input"
   ]
  },
  {
   "cell_type": "code",
   "execution_count": null,
   "metadata": {},
   "outputs": [],
   "source": [
    "# Forecast\n",
    "fc = model_fitted.forecast(y=forecast_input, steps=nobs)\n",
    "df_forecast = pd.DataFrame(fc, index=df.index[-nobs:], columns=df.columns + '_1d')\n",
    "df_forecast"
   ]
  },
  {
   "cell_type": "code",
   "execution_count": null,
   "metadata": {},
   "outputs": [],
   "source": [
    "def invert_transformation(df_train, df_forecast, second_diff=False):\n",
    "    \"\"\"Revert back the differencing to get the forecast to original scale.\"\"\"\n",
    "    df_fc = df_forecast.copy()\n",
    "    columns = df_train.columns\n",
    "    for col in columns:        \n",
    "        # Roll back 2nd Diff\n",
    "        if second_diff:\n",
    "            df_fc[str(col)+'_1d'] = (df_train[col].iloc[-1]-df_train[col].iloc[-2]) + df_fc[str(col)+'_2d'].cumsum()\n",
    "        # Roll back 1st Diff\n",
    "        df_fc[str(col)+'_forecast'] = df_train[col].iloc[-1] + df_fc[str(col)+'_1d'].cumsum()\n",
    "    return df_fc"
   ]
  },
  {
   "cell_type": "code",
   "execution_count": null,
   "metadata": {},
   "outputs": [],
   "source": [
    "df_results = invert_transformation(df1_train, df_forecast, second_diff=False)\n",
    "df_results.columns"
   ]
  },
  {
   "cell_type": "code",
   "execution_count": null,
   "metadata": {},
   "outputs": [],
   "source": [
    "df_results.loc[:,[ 'temp_1_forecast',\n",
    "       'temp_2_forecast', 'mean_national_temp_forecast', 'humidity_1_forecast',\n",
    "       'humidity_2_forecast', 'consumption_secondary_1_forecast',\n",
    "       'consumption_secondary_2_forecast', 'consumption_secondary_3_forecast',\n",
    "       'consumption_1_forecast', 'consumption_2_forecast']]"
   ]
  },
  {
   "cell_type": "code",
   "execution_count": null,
   "metadata": {},
   "outputs": [],
   "source": [
    "fig, axes = plt.subplots(nrows=int(len(df1.columns)/2), ncols=2, dpi=150, figsize=(10,10))\n",
    "for i, (col,ax) in enumerate(zip(df1.columns, axes.flatten())):\n",
    "    df_results[col+'_forecast'].plot(legend=True, ax=ax).autoscale(axis='x',tight=True)\n",
    "    df1_test[col][-nobs:].plot(legend=True, ax=ax);\n",
    "    ax.set_title(col + \": Forecast vs Actuals\")\n",
    "    ax.xaxis.set_ticks_position('none')\n",
    "    ax.yaxis.set_ticks_position('none')\n",
    "    ax.spines[\"top\"].set_alpha(0)\n",
    "    ax.tick_params(labelsize=6)\n",
    "\n",
    "plt.tight_layout();"
   ]
  },
  {
   "cell_type": "code",
   "execution_count": null,
   "metadata": {},
   "outputs": [],
   "source": [
    "from statsmodels.tsa.stattools import acf\n",
    "def forecast_accuracy(forecast, actual):\n",
    "    mape = np.mean(np.abs(forecast - actual)/np.abs(actual))  # MAPE\n",
    "    me = np.mean(forecast - actual)             # ME\n",
    "    mae = np.mean(np.abs(forecast - actual))    # MAE\n",
    "    mpe = np.mean((forecast - actual)/actual)   # MPE\n",
    "    rmse = np.mean((forecast - actual)**2)**.5  # RMSE\n",
    "    corr = np.corrcoef(forecast, actual)[0,1]   # corr\n",
    "    mins = np.amin(np.hstack([forecast[:,None], \n",
    "                              actual[:,None]]), axis=1)\n",
    "    maxs = np.amax(np.hstack([forecast[:,None], \n",
    "                              actual[:,None]]), axis=1)\n",
    "    minmax = 1 - np.mean(mins/maxs)             # minmax\n",
    "    return({'mape':mape, 'me':me, 'mae': mae, \n",
    "            'mpe': mpe, 'rmse':rmse, 'corr':corr, 'minmax':minmax})\n",
    "\n",
    "print('Forecast Accuracy of: temp_1')\n",
    "accuracy_prod = forecast_accuracy(df_results['temp_1_forecast'].values, df1_test['temp_1'])\n",
    "for k, v in accuracy_prod.items():\n",
    "    print((k), ': ', round(v,4))\n",
    "\n",
    "print('\\nForecast Accuracy of: temp_2')\n",
    "accuracy_prod = forecast_accuracy(df_results['temp_2_forecast'].values, df1_test['temp_2'])\n",
    "for k, v in accuracy_prod.items():\n",
    "    print((k), ': ', round(v,4))\n",
    "\n",
    "print('\\nForecast Accuracy of: mean_national_temp')\n",
    "accuracy_prod = forecast_accuracy(df_results['mean_national_temp_forecast'].values, df1_test['mean_national_temp'])\n",
    "for k, v in accuracy_prod.items():\n",
    "    print((k), ': ', round(v,4))\n",
    "print('\\nForecast Accuracy of: humidity_1')\n",
    "accuracy_prod = forecast_accuracy(df_results['humidity_1_forecast'].values, df1_test['humidity_1'])\n",
    "for k, v in accuracy_prod.items():\n",
    "    print((k), ': ', round(v,4))\n",
    "\n",
    "print('\\nForecast Accuracy of: humidity_2')\n",
    "accuracy_prod = forecast_accuracy(df_results['humidity_2_forecast'].values, df1_test['humidity_2'])\n",
    "for k, v in accuracy_prod.items():\n",
    "    print((k), ': ', round(v,4))\n",
    "\n",
    "print('\\nForecast Accuracy of: consumption_secondary_1')\n",
    "accuracy_prod = forecast_accuracy(df_results['consumption_secondary_1_forecast'].values, df1_test['consumption_secondary_1'])\n",
    "for k, v in accuracy_prod.items():\n",
    "    print((k), ': ', round(v,4))\n",
    "\n",
    "print('\\nForecast Accuracy of: consumption_secondary_2')\n",
    "accuracy_prod = forecast_accuracy(df_results['consumption_secondary_2_forecast'].values, df1_test['consumption_secondary_2'])\n",
    "for k, v in accuracy_prod.items():\n",
    "    print((k), ': ', round(v,4))\n",
    "\n",
    "print('\\nForecast Accuracy of: consumption_secondary_3')\n",
    "accuracy_prod = forecast_accuracy(df_results['consumption_secondary_3_forecast'].values, df1_test['consumption_secondary_3'])\n",
    "for k, v in accuracy_prod.items():\n",
    "    print((k), ': ', round(v,4))\n",
    "\n",
    "print('\\nForecast Accuracy of: consumption_1')\n",
    "accuracy_prod = forecast_accuracy(df_results['consumption_1_forecast'].values, df1_test['consumption_1'])\n",
    "for k, v in accuracy_prod.items():\n",
    "    print((k), ': ', round(v,4))\n",
    "\n",
    "print('\\nForecast Accuracy of: consumption_2')\n",
    "accuracy_prod = forecast_accuracy(df_results['consumption_2_forecast'].values, df1_test['consumption_2'])\n",
    "for k, v in accuracy_prod.items():\n",
    "    print((k), ': ', round(v,4))"
   ]
  }
 ],
 "metadata": {
  "kernelspec": {
   "display_name": "Python 3",
   "language": "python",
   "name": "python3"
  },
  "language_info": {
   "codemirror_mode": {
    "name": "ipython",
    "version": 3
   },
   "file_extension": ".py",
   "mimetype": "text/x-python",
   "name": "python",
   "nbconvert_exporter": "python",
   "pygments_lexer": "ipython3",
   "version": "3.7.3"
  }
 },
 "nbformat": 4,
 "nbformat_minor": 2
}
