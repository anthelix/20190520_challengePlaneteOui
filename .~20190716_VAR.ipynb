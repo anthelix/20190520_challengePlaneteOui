{
 "cells": [
  {
   "cell_type": "markdown",
   "metadata": {},
   "source": [
    "multivariate times series, \n",
    "regular times series, \n",
    "var model et non arima, \n",
    "verifier si stationnary, \n",
    "use referencing if not, \n",
    "todo : dans le \"pd.to_datetime(data_raw['timestamp'])\" mettre \"B\" pour business day\n",
    "\n",
    "\n",
    "\n"
   ]
  },
  {
   "cell_type": "code",
   "execution_count": 1,
   "metadata": {},
   "outputs": [],
   "source": [
    "#importing the libraries\n",
    "import numpy as np\n",
    "import math\n",
    "import pandas as pd\n",
    "from datetime import datetime, timedelta, time\n",
    "from vacances_scolaires_france import SchoolHolidayDates\n",
    "import sys\n",
    "from impyute.imputation.cs import mice\n",
    "from sklearn.compose import ColumnTransformer\n",
    "from sklearn.preprocessing import OneHotEncoder, StandardScaler\n",
    "from sklearn.linear_model import LinearRegression\n",
    "from sklearn.metrics import mean_squared_error\n",
    "from sklearn.model_selection import cross_val_score\n",
    "from sklearn.model_selection import TimeSeriesSplit\n",
    "from statsmodels.tsa.stattools import adfuller\n",
    "from statsmodels.tsa.stattools import kpss\n",
    "from statsmodels.tsa.stattools import grangercausalitytests\n",
    "from pandas.plotting import autocorrelation_plot\n",
    "import functools\n",
    "import matplotlib.pyplot as plt\n",
    "import matplotlib\n",
    "%matplotlib inline\n",
    "matplotlib.rcParams['figure.figsize'] = [12.0, 8.0]\n",
    "import seaborn as sns\n",
    "#pip install vacances-scolaires-france\n",
    "#pip3 install impyute\n",
    "#pip install statsmodels\n",
    "# my fonctions\n",
    "def conv(data):\n",
    "    data[\"date\"] = data.timestamp.apply(lambda x : x.split('T')[0])\n",
    "    data[\"datetime_perso\"] = data.timestamp.apply(lambda x : get_format_the_date(x))\n",
    "    data['year']=data['datetime_perso'].dt.year\n",
    "    data['month']=data['datetime_perso'].dt.month\n",
    "    data['timestamp'] = pd.to_datetime(data['timestamp'])\n",
    "    data['hours'] = data['timestamp'].dt.hour\n",
    "    return data\n",
    "\n",
    "## get season\n",
    "def get_season(doy):\n",
    "    spring = range(80, 172)\n",
    "    summer = range(172, 264)\n",
    "    fall = range(264, 355)\n",
    "    if doy in spring:\n",
    "        season = 'spring'\n",
    "    elif doy in summer:\n",
    "      season = 'summer'\n",
    "    elif doy in fall:\n",
    "        season = 'fall'\n",
    "    else:\n",
    "        season = 'winter'\n",
    "    return season\n",
    "\n",
    "## verifie si jour ferie\n",
    "def easter_date(year):\n",
    "    a = year // 100\n",
    "    b = year % 100\n",
    "    c = (3 * (a + 25)) // 4\n",
    "    d = (3 * (a + 25)) % 4\n",
    "    e = (8 * (a + 11)) // 25\n",
    "    f = (5 * a + b) % 19\n",
    "    g = (19 * f + c - e) % 30\n",
    "    h = (f + 11 * g) // 319\n",
    "    j = (60 * (5 - d) + b) // 4\n",
    "    k = (60 * (5 - d) + b) % 4\n",
    "    m = (2 * j - k - g + h) % 7\n",
    "    n = (g - h + m + 114) // 31\n",
    "    p = (g - h + m + 114) % 31\n",
    "    day = p + 1\n",
    "    month = n\n",
    "    return datetime(year, month, day)\n",
    "\n",
    "def is_ferie(the_date):\n",
    "    year = the_date.year\n",
    "    easter = easter_date(year)\n",
    "    days = [\n",
    "        datetime(year, 1, 1),  # Premier de l'an\n",
    "        easter + timedelta(days=1),  # Lundi de Pâques\n",
    "        datetime(year, 5, 1),  # Fête du Travail\n",
    "        datetime(year, 5, 8),  # Victoire de 1945\n",
    "        easter + timedelta(days=39),  # Ascension\n",
    "        easter + timedelta(days=49),  # Pentecôte\n",
    "        datetime(year, 7, 14),  # Fête Nationale\n",
    "        datetime(year, 8, 15),  # Assomption\n",
    "        datetime(year, 11, 1),  # Toussaint\n",
    "        datetime(year, 11, 11),  # Armistice 1918\n",
    "        datetime(year, 12, 25),  # Noël\n",
    "    ]\n",
    "    return the_date in days\n",
    "\n",
    "def get_format_the_date(timestamp):\n",
    "    do = datetime.strptime(timestamp, '%Y-%m-%dT%H:%M:%S.%f')\n",
    "    d5 = do.replace(minute=0, hour=0, second=0, microsecond=0).isoformat(' ')\n",
    "    the_date = datetime.strptime(d5, \"%Y-%m-%d %H:%M:%S\")\n",
    "    return the_date\n",
    "\n",
    "def business_day(timestamp):\n",
    "    if not is_ferie(timestamp) and timestamp.isoweekday() not in [6, 7]:\n",
    "        return True\n",
    "    else:\n",
    "        return False\n",
    "    \n",
    "  "
   ]
  },
  {
   "cell_type": "code",
   "execution_count": 2,
   "metadata": {},
   "outputs": [],
   "source": [
    "# Creating the test for stationarity\n",
    "def test_stationarity(timeseries):\n",
    "    \"\"\"\n",
    "    Check stationarity using ADF test\n",
    "    Ho : The series is non-stationary and has a unit root --> p-value > 0.05\n",
    "    H1 : The series is stationary and does not have a unit root --> p-value < 0.05\n",
    "    \"\"\"\n",
    "   \n",
    "    #Perform Dickey-Fuller test:\n",
    "    print ('Results of Dickey-Fuller Test:')\n",
    "    print('***   {}  *** Running ADF Stationarity test'.format(timeseries.name))\n",
    "    dftest = adfuller(timeseries, autolag='AIC')\n",
    "    dfoutput = pd.Series(dftest[0:4], index=['Test Statistic','p-value','#Lags Used','Number of Observations Used'])\n",
    "    for key,value in dftest[4].items():\n",
    "        dfoutput['Critical Value (%s)'%key] = value\n",
    "    print (dfoutput)\n",
    "   \n",
    "    if dftest[4]['5%'] > dftest[0]:\n",
    "        conclusion = 'Series is Stationary @95% CI'\n",
    "        print ('\\t Conclusion: Series is stationary at 95% CI\\n')\n",
    "    elif dftest[4]['10%'] > dftest[0]:\n",
    "        conclusion = 'Series is Stationary @90% CI'\n",
    "        print ('\\t Conclusion: Series is stationary at 90% CI but non-stationary at 95% CI\\n')\n",
    "    else:\n",
    "        conclusion = 'Series is non-Stationary'\n",
    "        print ('\\t Conclusion: Series is non-stationary\\n')\n",
    "    return conclusion\n"
   ]
  },
  {
   "cell_type": "code",
   "execution_count": 3,
   "metadata": {},
   "outputs": [],
   "source": [
    "#Summary Statistics\n",
    "def check_summary(series):\n",
    "    \"\"\"\n",
    "    Split the series into two and check summary statistics for both the series\n",
    "    \"\"\"\n",
    "    \n",
    "    X = series.values\n",
    "    split =int( len(X) / 2)\n",
    "    X1, X2 = X[0:split], X[split:]\n",
    "    meanoverall, mean1, mean2 = X.mean(), X1.mean(), X2.mean()\n",
    "    varoverall, var1, var2 = X.var(), X1.var(), X2.var()\n",
    "    print('mean overall = %f, \\t mean1=%f, \\t mean2=%f' % (meanoverall, mean1, mean2))\n",
    "    print('variance overall= %f, \\t variance1=%f, \\t variance2=%f' % (varoverall, var1, var2))\n",
    "\n",
    "\n",
    "#Distribution by plotting Histogram\n",
    "def check_distribution(series):\n",
    "    \"\"\"\n",
    "    Distribution by plotting Histogram\n",
    "    \"\"\"\n",
    "    series.hist()\n",
    "    plt.show()        \n",
    "\n",
    "#Series Plots:\n",
    "def check_plots(series):\n",
    "    \"\"\"\n",
    "    Plots the series as a line chart\n",
    "    \"\"\"\n",
    "    plt.plot(series)\n",
    "    plt.show()        \n",
    "    \n",
    "def check_normality(series):\n",
    "    result = stats.normaltest(series)\n",
    "    \n",
    "    print('Test: Running Agostino and Pearson Normality test for {} \\n\\t Normality test statistic: {} \\n\\t p-value: {} '.format(series.name, result[0], result[1]))\n",
    "    \n",
    "    if(result[1]< 0.05):\n",
    "        conclusion = 'Not Normally Distributed'\n",
    "        print('\\t Conclusion: {} is not normally distributed at 95% CI \\n'.format(series.name))\n",
    "    else:\n",
    "        conclusion = 'Normally Distributed'\n",
    "        print('\\t Conclusion: {} is normally distributed at 95% CI \\n'.format(series.name))\n",
    "        \n",
    "    return conclusion "
   ]
  },
  {
   "cell_type": "code",
   "execution_count": 4,
   "metadata": {},
   "outputs": [],
   "source": [
    "def processing(dataInt):\n",
    "    ## missing value\n",
    "    df = dataInt.copy()\n",
    "    #df_num = df.drop(['timestamp','loc_1', 'loc_2', 'loc_secondary_1', 'loc_secondary_2', 'loc_secondary_3'], axis=1)\n",
    "    #df_NonNum = df.select_dtypes(include=[np.object])\n",
    "    imputed_training_mice = mice(df.values)\n",
    "    data_mice = pd.DataFrame(imputed_training_mice, columns = df.columns, index = list(df.index.values))\n",
    "   # dClean = data_mice.join(df_NonNum)\n",
    "    ## drop variable inutile\n",
    "    #d_tr = dClean.drop(['loc_1', 'loc_2', 'loc_secondary_1', 'loc_secondary_2', 'loc_secondary_3'], axis=1)\n",
    "    ## create extra attribute\n",
    "    #conv(d_tr)\n",
    "    #d_tr['timestamp'] = pd.to_datetime(d_tr.timestamp, format = '%Y-%m-%dT%H:%M:%S.%f')\n",
    "    ## create season and rangeInYear\n",
    "    #s = pd.to_datetime(pd.Series(d_tr['timestamp']))\n",
    "    #d_tr['rangeInYear'] = s.dt.strftime('%j').astype(int)\n",
    "    #create jours working days\n",
    "   # d_tr['is_business_day'] = d_tr['datetime_perso'].apply(lambda e : int(business_day(e)))\n",
    "    #Is it an holiday for zone A, B or C?\n",
    "    #d = SchoolHolidayDates()\n",
    "    #d_tr['is_holiday'] = d_tr['datetime_perso'].apply(lambda f : int(d.is_holiday(datetime.date(f))))\n",
    "    #d_tr['season'] = d_tr['rangeInYear'].apply(lambda d : get_season(d))\n",
    "    #dataInt1 = d_tr.drop(['rangeInYear', 'datetime_perso', 'date', 'timestamp'], axis=1)\n",
    "    return (data_mice)  \n"
   ]
  },
  {
   "cell_type": "markdown",
   "metadata": {},
   "source": [
    "--------------------------------------------------------------------------------------------------------------------"
   ]
  },
  {
   "cell_type": "code",
   "execution_count": 5,
   "metadata": {},
   "outputs": [
    {
     "data": {
      "text/plain": [
       "Index(['ID', 'timestamp', 'temp_1', 'temp_2', 'mean_national_temp',\n",
       "       'humidity_1', 'humidity_2', 'loc_1', 'loc_2', 'loc_secondary_1',\n",
       "       'loc_secondary_2', 'loc_secondary_3', 'consumption_secondary_1',\n",
       "       'consumption_secondary_2', 'consumption_secondary_3', 'ID',\n",
       "       'consumption_1', 'consumption_2'],\n",
       "      dtype='object')"
      ]
     },
     "execution_count": 5,
     "metadata": {},
     "output_type": "execute_result"
    }
   ],
   "source": [
    "# creere un je\n",
    "dataInt_raw = pd.read_csv('./data_set1/input_training_ssnsrY0.csv')\n",
    "dataOut_raw = pd.read_csv('./data_set1/output_training_Uf11I9I.csv')\n",
    "data_raw = pd.concat([dataInt_raw, dataOut_raw], axis=1)\n",
    "data_raw.head()\n",
    "data_raw.columns\n",
    "#----------------------\n"
   ]
  },
  {
   "cell_type": "code",
   "execution_count": 6,
   "metadata": {},
   "outputs": [
    {
     "data": {
      "text/html": [
       "<div>\n",
       "<style scoped>\n",
       "    .dataframe tbody tr th:only-of-type {\n",
       "        vertical-align: middle;\n",
       "    }\n",
       "\n",
       "    .dataframe tbody tr th {\n",
       "        vertical-align: top;\n",
       "    }\n",
       "\n",
       "    .dataframe thead th {\n",
       "        text-align: right;\n",
       "    }\n",
       "</style>\n",
       "<table border=\"1\" class=\"dataframe\">\n",
       "  <thead>\n",
       "    <tr style=\"text-align: right;\">\n",
       "      <th></th>\n",
       "      <th>ID</th>\n",
       "      <th>timestamp</th>\n",
       "      <th>temp_1</th>\n",
       "      <th>temp_2</th>\n",
       "      <th>mean_national_temp</th>\n",
       "      <th>humidity_1</th>\n",
       "      <th>humidity_2</th>\n",
       "      <th>loc_1</th>\n",
       "      <th>loc_2</th>\n",
       "      <th>loc_secondary_1</th>\n",
       "      <th>loc_secondary_2</th>\n",
       "      <th>loc_secondary_3</th>\n",
       "      <th>consumption_secondary_1</th>\n",
       "      <th>consumption_secondary_2</th>\n",
       "      <th>consumption_secondary_3</th>\n",
       "      <th>ID</th>\n",
       "      <th>consumption_1</th>\n",
       "      <th>consumption_2</th>\n",
       "    </tr>\n",
       "  </thead>\n",
       "  <tbody>\n",
       "    <tr>\n",
       "      <th>0</th>\n",
       "      <td>0</td>\n",
       "      <td>2016-11-01T00:00:00.0</td>\n",
       "      <td>8.3</td>\n",
       "      <td>NaN</td>\n",
       "      <td>11.1</td>\n",
       "      <td>95.0</td>\n",
       "      <td>NaN</td>\n",
       "      <td>(50.633, 3.067)</td>\n",
       "      <td>(43.530, 5.447)</td>\n",
       "      <td>(44.838, -0.579)</td>\n",
       "      <td>(47.478, -0.563)</td>\n",
       "      <td>(48.867, 2.333)</td>\n",
       "      <td>143</td>\n",
       "      <td>74</td>\n",
       "      <td>168</td>\n",
       "      <td>0</td>\n",
       "      <td>100</td>\n",
       "      <td>93</td>\n",
       "    </tr>\n",
       "    <tr>\n",
       "      <th>1</th>\n",
       "      <td>1</td>\n",
       "      <td>2016-11-01T01:00:00.0</td>\n",
       "      <td>8.0</td>\n",
       "      <td>NaN</td>\n",
       "      <td>11.1</td>\n",
       "      <td>98.0</td>\n",
       "      <td>NaN</td>\n",
       "      <td>(50.633, 3.067)</td>\n",
       "      <td>(43.530, 5.447)</td>\n",
       "      <td>(44.838, -0.579)</td>\n",
       "      <td>(47.478, -0.563)</td>\n",
       "      <td>(48.867, 2.333)</td>\n",
       "      <td>141</td>\n",
       "      <td>60</td>\n",
       "      <td>162</td>\n",
       "      <td>1</td>\n",
       "      <td>101</td>\n",
       "      <td>94</td>\n",
       "    </tr>\n",
       "  </tbody>\n",
       "</table>\n",
       "</div>"
      ],
      "text/plain": [
       "   ID              timestamp  temp_1  temp_2  mean_national_temp  humidity_1  \\\n",
       "0   0  2016-11-01T00:00:00.0     8.3     NaN                11.1        95.0   \n",
       "1   1  2016-11-01T01:00:00.0     8.0     NaN                11.1        98.0   \n",
       "\n",
       "   humidity_2            loc_1            loc_2   loc_secondary_1  \\\n",
       "0         NaN  (50.633, 3.067)  (43.530, 5.447)  (44.838, -0.579)   \n",
       "1         NaN  (50.633, 3.067)  (43.530, 5.447)  (44.838, -0.579)   \n",
       "\n",
       "    loc_secondary_2  loc_secondary_3  consumption_secondary_1  \\\n",
       "0  (47.478, -0.563)  (48.867, 2.333)                      143   \n",
       "1  (47.478, -0.563)  (48.867, 2.333)                      141   \n",
       "\n",
       "   consumption_secondary_2  consumption_secondary_3  ID  consumption_1  \\\n",
       "0                       74                      168   0            100   \n",
       "1                       60                      162   1            101   \n",
       "\n",
       "   consumption_2  \n",
       "0             93  \n",
       "1             94  "
      ]
     },
     "execution_count": 6,
     "metadata": {},
     "output_type": "execute_result"
    }
   ],
   "source": [
    "data_raw.head(2)"
   ]
  },
  {
   "cell_type": "code",
   "execution_count": 7,
   "metadata": {},
   "outputs": [
    {
     "data": {
      "text/plain": [
       "ID                           int64\n",
       "timestamp                   object\n",
       "temp_1                     float64\n",
       "temp_2                     float64\n",
       "mean_national_temp         float64\n",
       "humidity_1                 float64\n",
       "humidity_2                 float64\n",
       "loc_1                       object\n",
       "loc_2                       object\n",
       "loc_secondary_1             object\n",
       "loc_secondary_2             object\n",
       "loc_secondary_3             object\n",
       "consumption_secondary_1      int64\n",
       "consumption_secondary_2      int64\n",
       "consumption_secondary_3      int64\n",
       "ID                           int64\n",
       "consumption_1                int64\n",
       "consumption_2                int64\n",
       "dtype: object"
      ]
     },
     "execution_count": 7,
     "metadata": {},
     "output_type": "execute_result"
    }
   ],
   "source": [
    "data_raw.dtypes"
   ]
  },
  {
   "cell_type": "code",
   "execution_count": 8,
   "metadata": {},
   "outputs": [
    {
     "data": {
      "text/plain": [
       "(8760, 18)"
      ]
     },
     "execution_count": 8,
     "metadata": {},
     "output_type": "execute_result"
    }
   ],
   "source": [
    "\n",
    "data_raw.shape"
   ]
  },
  {
   "cell_type": "code",
   "execution_count": 9,
   "metadata": {},
   "outputs": [
    {
     "data": {
      "text/html": [
       "<div>\n",
       "<style scoped>\n",
       "    .dataframe tbody tr th:only-of-type {\n",
       "        vertical-align: middle;\n",
       "    }\n",
       "\n",
       "    .dataframe tbody tr th {\n",
       "        vertical-align: top;\n",
       "    }\n",
       "\n",
       "    .dataframe thead th {\n",
       "        text-align: right;\n",
       "    }\n",
       "</style>\n",
       "<table border=\"1\" class=\"dataframe\">\n",
       "  <thead>\n",
       "    <tr style=\"text-align: right;\">\n",
       "      <th></th>\n",
       "      <th>ID</th>\n",
       "      <th>temp_1</th>\n",
       "      <th>temp_2</th>\n",
       "      <th>mean_national_temp</th>\n",
       "      <th>humidity_1</th>\n",
       "      <th>humidity_2</th>\n",
       "      <th>consumption_secondary_1</th>\n",
       "      <th>consumption_secondary_2</th>\n",
       "      <th>consumption_secondary_3</th>\n",
       "      <th>ID</th>\n",
       "      <th>consumption_1</th>\n",
       "      <th>consumption_2</th>\n",
       "    </tr>\n",
       "  </thead>\n",
       "  <tbody>\n",
       "    <tr>\n",
       "      <th>count</th>\n",
       "      <td>8760.000000</td>\n",
       "      <td>8589.000000</td>\n",
       "      <td>8429.000000</td>\n",
       "      <td>8760.000000</td>\n",
       "      <td>8589.000000</td>\n",
       "      <td>8428.000000</td>\n",
       "      <td>8760.000000</td>\n",
       "      <td>8760.000000</td>\n",
       "      <td>8760.000000</td>\n",
       "      <td>8760.000000</td>\n",
       "      <td>8760.000000</td>\n",
       "      <td>8760.000000</td>\n",
       "    </tr>\n",
       "    <tr>\n",
       "      <th>mean</th>\n",
       "      <td>4379.500000</td>\n",
       "      <td>11.402771</td>\n",
       "      <td>15.086274</td>\n",
       "      <td>13.173858</td>\n",
       "      <td>77.351496</td>\n",
       "      <td>63.443284</td>\n",
       "      <td>203.025114</td>\n",
       "      <td>123.581735</td>\n",
       "      <td>235.774201</td>\n",
       "      <td>4379.500000</td>\n",
       "      <td>137.549543</td>\n",
       "      <td>148.529909</td>\n",
       "    </tr>\n",
       "    <tr>\n",
       "      <th>std</th>\n",
       "      <td>2528.938512</td>\n",
       "      <td>7.049919</td>\n",
       "      <td>8.463627</td>\n",
       "      <td>6.474700</td>\n",
       "      <td>16.638173</td>\n",
       "      <td>21.900343</td>\n",
       "      <td>69.792811</td>\n",
       "      <td>65.036526</td>\n",
       "      <td>99.701896</td>\n",
       "      <td>2528.938512</td>\n",
       "      <td>63.146689</td>\n",
       "      <td>73.263972</td>\n",
       "    </tr>\n",
       "    <tr>\n",
       "      <th>min</th>\n",
       "      <td>0.000000</td>\n",
       "      <td>-5.700000</td>\n",
       "      <td>-7.200000</td>\n",
       "      <td>-1.800000</td>\n",
       "      <td>21.000000</td>\n",
       "      <td>12.000000</td>\n",
       "      <td>84.000000</td>\n",
       "      <td>0.000000</td>\n",
       "      <td>94.000000</td>\n",
       "      <td>0.000000</td>\n",
       "      <td>38.000000</td>\n",
       "      <td>0.000000</td>\n",
       "    </tr>\n",
       "    <tr>\n",
       "      <th>25%</th>\n",
       "      <td>2189.750000</td>\n",
       "      <td>6.100000</td>\n",
       "      <td>9.000000</td>\n",
       "      <td>8.200000</td>\n",
       "      <td>66.000000</td>\n",
       "      <td>46.000000</td>\n",
       "      <td>150.000000</td>\n",
       "      <td>73.000000</td>\n",
       "      <td>166.000000</td>\n",
       "      <td>2189.750000</td>\n",
       "      <td>91.000000</td>\n",
       "      <td>105.000000</td>\n",
       "    </tr>\n",
       "    <tr>\n",
       "      <th>50%</th>\n",
       "      <td>4379.500000</td>\n",
       "      <td>11.200000</td>\n",
       "      <td>14.500000</td>\n",
       "      <td>12.800000</td>\n",
       "      <td>81.000000</td>\n",
       "      <td>65.000000</td>\n",
       "      <td>181.000000</td>\n",
       "      <td>107.000000</td>\n",
       "      <td>194.000000</td>\n",
       "      <td>4379.500000</td>\n",
       "      <td>116.000000</td>\n",
       "      <td>129.000000</td>\n",
       "    </tr>\n",
       "    <tr>\n",
       "      <th>75%</th>\n",
       "      <td>6569.250000</td>\n",
       "      <td>16.400000</td>\n",
       "      <td>21.000000</td>\n",
       "      <td>18.700000</td>\n",
       "      <td>91.000000</td>\n",
       "      <td>83.000000</td>\n",
       "      <td>252.000000</td>\n",
       "      <td>160.000000</td>\n",
       "      <td>287.250000</td>\n",
       "      <td>6569.250000</td>\n",
       "      <td>176.000000</td>\n",
       "      <td>181.000000</td>\n",
       "    </tr>\n",
       "    <tr>\n",
       "      <th>max</th>\n",
       "      <td>8759.000000</td>\n",
       "      <td>33.600000</td>\n",
       "      <td>39.300000</td>\n",
       "      <td>28.300000</td>\n",
       "      <td>100.000000</td>\n",
       "      <td>99.000000</td>\n",
       "      <td>464.000000</td>\n",
       "      <td>355.000000</td>\n",
       "      <td>570.000000</td>\n",
       "      <td>8759.000000</td>\n",
       "      <td>349.000000</td>\n",
       "      <td>542.000000</td>\n",
       "    </tr>\n",
       "  </tbody>\n",
       "</table>\n",
       "</div>"
      ],
      "text/plain": [
       "                ID       temp_1       temp_2  mean_national_temp   humidity_1  \\\n",
       "count  8760.000000  8589.000000  8429.000000         8760.000000  8589.000000   \n",
       "mean   4379.500000    11.402771    15.086274           13.173858    77.351496   \n",
       "std    2528.938512     7.049919     8.463627            6.474700    16.638173   \n",
       "min       0.000000    -5.700000    -7.200000           -1.800000    21.000000   \n",
       "25%    2189.750000     6.100000     9.000000            8.200000    66.000000   \n",
       "50%    4379.500000    11.200000    14.500000           12.800000    81.000000   \n",
       "75%    6569.250000    16.400000    21.000000           18.700000    91.000000   \n",
       "max    8759.000000    33.600000    39.300000           28.300000   100.000000   \n",
       "\n",
       "        humidity_2  consumption_secondary_1  consumption_secondary_2  \\\n",
       "count  8428.000000              8760.000000              8760.000000   \n",
       "mean     63.443284               203.025114               123.581735   \n",
       "std      21.900343                69.792811                65.036526   \n",
       "min      12.000000                84.000000                 0.000000   \n",
       "25%      46.000000               150.000000                73.000000   \n",
       "50%      65.000000               181.000000               107.000000   \n",
       "75%      83.000000               252.000000               160.000000   \n",
       "max      99.000000               464.000000               355.000000   \n",
       "\n",
       "       consumption_secondary_3           ID  consumption_1  consumption_2  \n",
       "count              8760.000000  8760.000000    8760.000000    8760.000000  \n",
       "mean                235.774201  4379.500000     137.549543     148.529909  \n",
       "std                  99.701896  2528.938512      63.146689      73.263972  \n",
       "min                  94.000000     0.000000      38.000000       0.000000  \n",
       "25%                 166.000000  2189.750000      91.000000     105.000000  \n",
       "50%                 194.000000  4379.500000     116.000000     129.000000  \n",
       "75%                 287.250000  6569.250000     176.000000     181.000000  \n",
       "max                 570.000000  8759.000000     349.000000     542.000000  "
      ]
     },
     "execution_count": 9,
     "metadata": {},
     "output_type": "execute_result"
    }
   ],
   "source": [
    "data_raw.describe()"
   ]
  },
  {
   "cell_type": "code",
   "execution_count": 10,
   "metadata": {},
   "outputs": [],
   "source": [
    "#data_raw['timestamp'] = pd.to_datetime(data_raw.timestamp, format = '%Y-%m-%dT%H:%M:%S.%f')\n"
   ]
  },
  {
   "cell_type": "code",
   "execution_count": 11,
   "metadata": {},
   "outputs": [
    {
     "data": {
      "text/plain": [
       "ID                           int64\n",
       "timestamp                   object\n",
       "temp_1                     float64\n",
       "temp_2                     float64\n",
       "mean_national_temp         float64\n",
       "humidity_1                 float64\n",
       "humidity_2                 float64\n",
       "loc_1                       object\n",
       "loc_2                       object\n",
       "loc_secondary_1             object\n",
       "loc_secondary_2             object\n",
       "loc_secondary_3             object\n",
       "consumption_secondary_1      int64\n",
       "consumption_secondary_2      int64\n",
       "consumption_secondary_3      int64\n",
       "ID                           int64\n",
       "consumption_1                int64\n",
       "consumption_2                int64\n",
       "dtype: object"
      ]
     },
     "execution_count": 11,
     "metadata": {},
     "output_type": "execute_result"
    }
   ],
   "source": [
    "data_raw.dtypes"
   ]
  },
  {
   "cell_type": "code",
   "execution_count": 12,
   "metadata": {},
   "outputs": [
    {
     "name": "stdout",
     "output_type": "stream",
     "text": [
      "<class 'pandas.core.frame.DataFrame'>\n",
      "RangeIndex: 8760 entries, 0 to 8759\n",
      "Data columns (total 18 columns):\n",
      "ID                         8760 non-null int64\n",
      "timestamp                  8760 non-null object\n",
      "temp_1                     8589 non-null float64\n",
      "temp_2                     8429 non-null float64\n",
      "mean_national_temp         8760 non-null float64\n",
      "humidity_1                 8589 non-null float64\n",
      "humidity_2                 8428 non-null float64\n",
      "loc_1                      8760 non-null object\n",
      "loc_2                      8760 non-null object\n",
      "loc_secondary_1            8760 non-null object\n",
      "loc_secondary_2            8760 non-null object\n",
      "loc_secondary_3            8760 non-null object\n",
      "consumption_secondary_1    8760 non-null int64\n",
      "consumption_secondary_2    8760 non-null int64\n",
      "consumption_secondary_3    8760 non-null int64\n",
      "ID                         8760 non-null int64\n",
      "consumption_1              8760 non-null int64\n",
      "consumption_2              8760 non-null int64\n",
      "dtypes: float64(5), int64(7), object(6)\n",
      "memory usage: 1.2+ MB\n"
     ]
    }
   ],
   "source": [
    "data_raw.info()"
   ]
  },
  {
   "cell_type": "code",
   "execution_count": 13,
   "metadata": {},
   "outputs": [],
   "source": [
    "\n",
    "#data_raw.columns"
   ]
  },
  {
   "cell_type": "code",
   "execution_count": 14,
   "metadata": {},
   "outputs": [],
   "source": [
    "#data_raw.info()"
   ]
  },
  {
   "cell_type": "code",
   "execution_count": null,
   "metadata": {},
   "outputs": [],
   "source": []
  },
  {
   "cell_type": "code",
   "execution_count": 15,
   "metadata": {},
   "outputs": [],
   "source": [
    "data_raw['timestamp'] = pd.to_datetime(data_raw['timestamp'])"
   ]
  },
  {
   "cell_type": "code",
   "execution_count": 16,
   "metadata": {},
   "outputs": [],
   "source": [
    "data_raw.set_index('timestamp', inplace=True)"
   ]
  },
  {
   "cell_type": "code",
   "execution_count": 17,
   "metadata": {},
   "outputs": [
    {
     "name": "stdout",
     "output_type": "stream",
     "text": [
      "<class 'pandas.core.frame.DataFrame'>\n",
      "DatetimeIndex: 8760 entries, 2016-11-01 00:00:00 to 2017-10-31 23:00:00\n",
      "Data columns (total 17 columns):\n",
      "ID                         8760 non-null int64\n",
      "temp_1                     8589 non-null float64\n",
      "temp_2                     8429 non-null float64\n",
      "mean_national_temp         8760 non-null float64\n",
      "humidity_1                 8589 non-null float64\n",
      "humidity_2                 8428 non-null float64\n",
      "loc_1                      8760 non-null object\n",
      "loc_2                      8760 non-null object\n",
      "loc_secondary_1            8760 non-null object\n",
      "loc_secondary_2            8760 non-null object\n",
      "loc_secondary_3            8760 non-null object\n",
      "consumption_secondary_1    8760 non-null int64\n",
      "consumption_secondary_2    8760 non-null int64\n",
      "consumption_secondary_3    8760 non-null int64\n",
      "ID                         8760 non-null int64\n",
      "consumption_1              8760 non-null int64\n",
      "consumption_2              8760 non-null int64\n",
      "dtypes: float64(5), int64(7), object(5)\n",
      "memory usage: 1.2+ MB\n"
     ]
    }
   ],
   "source": [
    "data_raw.info()"
   ]
  },
  {
   "cell_type": "code",
   "execution_count": 18,
   "metadata": {},
   "outputs": [
    {
     "ename": "ValueError",
     "evalue": "Of the four parameters: start, end, periods, and freq, exactly three must be specified",
     "output_type": "error",
     "traceback": [
      "\u001b[0;31m-------------------------------------------------------------\u001b[0m",
      "\u001b[0;31mValueError\u001b[0m                  Traceback (most recent call last)",
      "\u001b[0;32m<ipython-input-18-dc4792f00a3a>\u001b[0m in \u001b[0;36m<module>\u001b[0;34m\u001b[0m\n\u001b[1;32m      2\u001b[0m                  index = pd.date_range(\n\u001b[1;32m      3\u001b[0m                      \u001b[0mstart\u001b[0m \u001b[0;34m=\u001b[0m \u001b[0;34m'2016-11-01 00:00:00'\u001b[0m\u001b[0;34m,\u001b[0m\u001b[0;34m\u001b[0m\u001b[0;34m\u001b[0m\u001b[0m\n\u001b[0;32m----> 4\u001b[0;31m                      freq= 'H'))\n\u001b[0m",
      "\u001b[0;32m~/goinfre/miniconda3/lib/python3.7/site-packages/pandas/core/indexes/datetimes.py\u001b[0m in \u001b[0;36mdate_range\u001b[0;34m(start, end, periods, freq, tz, normalize, name, closed, **kwargs)\u001b[0m\n\u001b[1;32m   1522\u001b[0m         \u001b[0mstart\u001b[0m\u001b[0;34m=\u001b[0m\u001b[0mstart\u001b[0m\u001b[0;34m,\u001b[0m \u001b[0mend\u001b[0m\u001b[0;34m=\u001b[0m\u001b[0mend\u001b[0m\u001b[0;34m,\u001b[0m \u001b[0mperiods\u001b[0m\u001b[0;34m=\u001b[0m\u001b[0mperiods\u001b[0m\u001b[0;34m,\u001b[0m\u001b[0;34m\u001b[0m\u001b[0;34m\u001b[0m\u001b[0m\n\u001b[1;32m   1523\u001b[0m         \u001b[0mfreq\u001b[0m\u001b[0;34m=\u001b[0m\u001b[0mfreq\u001b[0m\u001b[0;34m,\u001b[0m \u001b[0mtz\u001b[0m\u001b[0;34m=\u001b[0m\u001b[0mtz\u001b[0m\u001b[0;34m,\u001b[0m \u001b[0mnormalize\u001b[0m\u001b[0;34m=\u001b[0m\u001b[0mnormalize\u001b[0m\u001b[0;34m,\u001b[0m\u001b[0;34m\u001b[0m\u001b[0;34m\u001b[0m\u001b[0m\n\u001b[0;32m-> 1524\u001b[0;31m         closed=closed, **kwargs)\n\u001b[0m\u001b[1;32m   1525\u001b[0m     return DatetimeIndex._simple_new(\n\u001b[1;32m   1526\u001b[0m         dtarr, tz=dtarr.tz, freq=dtarr.freq, name=name)\n",
      "\u001b[0;32m~/goinfre/miniconda3/lib/python3.7/site-packages/pandas/core/arrays/datetimes.py\u001b[0m in \u001b[0;36m_generate_range\u001b[0;34m(cls, start, end, periods, freq, tz, normalize, ambiguous, nonexistent, closed)\u001b[0m\n\u001b[1;32m    404\u001b[0m \u001b[0;34m\u001b[0m\u001b[0m\n\u001b[1;32m    405\u001b[0m         \u001b[0;32mif\u001b[0m \u001b[0mcom\u001b[0m\u001b[0;34m.\u001b[0m\u001b[0mcount_not_none\u001b[0m\u001b[0;34m(\u001b[0m\u001b[0mstart\u001b[0m\u001b[0;34m,\u001b[0m \u001b[0mend\u001b[0m\u001b[0;34m,\u001b[0m \u001b[0mperiods\u001b[0m\u001b[0;34m,\u001b[0m \u001b[0mfreq\u001b[0m\u001b[0;34m)\u001b[0m \u001b[0;34m!=\u001b[0m \u001b[0;36m3\u001b[0m\u001b[0;34m:\u001b[0m\u001b[0;34m\u001b[0m\u001b[0;34m\u001b[0m\u001b[0m\n\u001b[0;32m--> 406\u001b[0;31m             raise ValueError('Of the four parameters: start, end, periods, '\n\u001b[0m\u001b[1;32m    407\u001b[0m                              'and freq, exactly three must be specified')\n\u001b[1;32m    408\u001b[0m         \u001b[0mfreq\u001b[0m \u001b[0;34m=\u001b[0m \u001b[0mto_offset\u001b[0m\u001b[0;34m(\u001b[0m\u001b[0mfreq\u001b[0m\u001b[0;34m)\u001b[0m\u001b[0;34m\u001b[0m\u001b[0;34m\u001b[0m\u001b[0m\n",
      "\u001b[0;31mValueError\u001b[0m: Of the four parameters: start, end, periods, and freq, exactly three must be specified"
     ]
    }
   ],
   "source": [
    "df = pd.DataFrame(data = data_raw.values,\n",
    "                 index = pd.date_range(\n",
    "                     start = '2016-11-01 00:00:00',\n",
    "                     freq= 'H'))"
   ]
  },
  {
   "cell_type": "code",
   "execution_count": null,
   "metadata": {},
   "outputs": [],
   "source": [
    "data_raw.head(2)"
   ]
  },
  {
   "cell_type": "code",
   "execution_count": 19,
   "metadata": {},
   "outputs": [
    {
     "data": {
      "text/plain": [
       "ID                           int64\n",
       "temp_1                     float64\n",
       "temp_2                     float64\n",
       "mean_national_temp         float64\n",
       "humidity_1                 float64\n",
       "humidity_2                 float64\n",
       "loc_1                       object\n",
       "loc_2                       object\n",
       "loc_secondary_1             object\n",
       "loc_secondary_2             object\n",
       "loc_secondary_3             object\n",
       "consumption_secondary_1      int64\n",
       "consumption_secondary_2      int64\n",
       "consumption_secondary_3      int64\n",
       "ID                           int64\n",
       "consumption_1                int64\n",
       "consumption_2                int64\n",
       "dtype: object"
      ]
     },
     "execution_count": 19,
     "metadata": {},
     "output_type": "execute_result"
    }
   ],
   "source": [
    "data_raw.dtypes"
   ]
  },
  {
   "cell_type": "code",
   "execution_count": 20,
   "metadata": {},
   "outputs": [],
   "source": [
    "df = data_raw.loc[:, ['temp_1', 'temp_2','mean_national_temp', 'humidity_1', 'humidity_2', \n",
    "                              'consumption_secondary_1', 'consumption_secondary_2', 'consumption_secondary_3','consumption_1','consumption_2']]\n"
   ]
  },
  {
   "cell_type": "code",
   "execution_count": 21,
   "metadata": {},
   "outputs": [
    {
     "data": {
      "text/plain": [
       "(8760, 10)"
      ]
     },
     "execution_count": 21,
     "metadata": {},
     "output_type": "execute_result"
    }
   ],
   "source": [
    "df.shape"
   ]
  },
  {
   "cell_type": "code",
   "execution_count": 22,
   "metadata": {},
   "outputs": [
    {
     "data": {
      "text/plain": [
       "temp_1                     float64\n",
       "temp_2                     float64\n",
       "mean_national_temp         float64\n",
       "humidity_1                 float64\n",
       "humidity_2                 float64\n",
       "consumption_secondary_1      int64\n",
       "consumption_secondary_2      int64\n",
       "consumption_secondary_3      int64\n",
       "consumption_1                int64\n",
       "consumption_2                int64\n",
       "dtype: object"
      ]
     },
     "execution_count": 22,
     "metadata": {},
     "output_type": "execute_result"
    }
   ],
   "source": [
    "df.dtypes"
   ]
  },
  {
   "cell_type": "code",
   "execution_count": 23,
   "metadata": {},
   "outputs": [],
   "source": [
    "import pandas as pd\n",
    "import numpy as np\n",
    "import matplotlib.pyplot as plt\n",
    "%matplotlib inline\n",
    "\n",
    "# Import Statsmodels\n",
    "from statsmodels.tsa.api import VAR\n",
    "from statsmodels.tsa.stattools import adfuller\n",
    "from statsmodels.tools.eval_measures import rmse, aic"
   ]
  },
  {
   "cell_type": "code",
   "execution_count": 24,
   "metadata": {},
   "outputs": [
    {
     "name": "stderr",
     "output_type": "stream",
     "text": [
      "/Users/schatagn/goinfre/miniconda3/lib/python3.7/site-packages/pandas/plotting/_converter.py:129: FutureWarning: Using an implicitly registered datetime converter for a matplotlib plotting method. The converter was registered by pandas on import. Future versions of pandas will require you to explicitly register matplotlib converters.\n",
      "\n",
      "To register the converters:\n",
      "\t>>> from pandas.plotting import register_matplotlib_converters\n",
      "\t>>> register_matplotlib_converters()\n",
      "  warnings.warn(msg, FutureWarning)\n"
     ]
    },
    {
     "data": {
      "image/png": "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